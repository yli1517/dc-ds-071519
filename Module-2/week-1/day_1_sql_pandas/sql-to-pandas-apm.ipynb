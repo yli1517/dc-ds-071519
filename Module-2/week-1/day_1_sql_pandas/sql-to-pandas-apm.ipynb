{
 "cells": [
  {
   "cell_type": "markdown",
   "metadata": {
    "slideshow": {
     "slide_type": "slide"
    }
   },
   "source": [
    "![sql](img/sql-logo.jpg)\n",
    "\n",
    "# A beginner's guide to databases, SQL, & using them with `pandas`"
   ]
  },
  {
   "cell_type": "markdown",
   "metadata": {
    "slideshow": {
     "slide_type": "slide"
    }
   },
   "source": [
    "**Scenario:** You are a data analyst for the Homeland Security, trying to create reports on the active airports world wide. The data you need to access is in a SQL database. YOu need to be able to query for the data in a database!"
   ]
  },
  {
   "cell_type": "markdown",
   "metadata": {
    "slideshow": {
     "slide_type": "slide"
    }
   },
   "source": [
    "## Learning goals:\n",
    "- Goal 1: Summarize the use case for sql in the data science skill set\n",
    "- Goal 2: Define key sql terminology\n",
    "- Goal 3: Get information about DB schema and table structure\n",
    "- Goal 4: Use basic SQL commands:\n",
    "    - Construct SQL queries\n",
    "    - Use JOIN to merge tables along logical columns\n",
    "    - Grouping Data with SQL\n",
    "- Goal 5: Query data from pandas dataframes using SQL\n",
    "- Goal 6: Convert SQL to pandas"
   ]
  },
  {
   "cell_type": "markdown",
   "metadata": {
    "slideshow": {
     "slide_type": "slide"
    }
   },
   "source": [
    "## Goal 1: Summarize\n",
    "\n",
    "[Netflix has a great article](https://medium.com/netflix-techblog/notebook-innovation-591ee3221233) describing three different data roles at their company, their different needs, and their toolsets.\n",
    "\n",
    "![netflix](img/netflix-data-roles.jpeg)\n",
    "\n",
    "Examining that graphic, SQL shows up as one of the tools of the _Data Engineer_ "
   ]
  },
  {
   "cell_type": "markdown",
   "metadata": {
    "slideshow": {
     "slide_type": "slide"
    }
   },
   "source": [
    "Data Engineers provide the essential data architecture services that make data science possible.\n",
    "\n",
    "![hierarchy](img/ai-hierachy.png)\n",
    "\n",
    "[Source: Monica Rogati’s fantastic Medium post “The AI Hierarchy of Needs”\n",
    "](https://hackernoon.com/the-ai-hierarchy-of-needs-18f111fcc007)"
   ]
  },
  {
   "cell_type": "markdown",
   "metadata": {
    "slideshow": {
     "slide_type": "slide"
    }
   },
   "source": [
    "![etl](img/etl.png)\n",
    "\n",
    "[img source: Jeff Hammerbacher’s slide from UC Berkeley CS 194 course ](https://bcourses.berkeley.edu/courses/1377158/pages/cs-194-16-introduction-to-data-science-fall-2015)"
   ]
  },
  {
   "cell_type": "markdown",
   "metadata": {
    "slideshow": {
     "slide_type": "slide"
    }
   },
   "source": [
    "### What is a Relational Database? \n",
    "\n",
    "![rdb](img/relational-dbms-model.png)\n",
    "[reference for image ](https://www.studytonight.com/dbms/database-model.php)"
   ]
  },
  {
   "cell_type": "markdown",
   "metadata": {
    "slideshow": {
     "slide_type": "slide"
    }
   },
   "source": [
    "### POPULAR RDBMS\n",
    "\n",
    "- SQLite\n",
    "- MySQL\n",
    "- PostgreSql\n",
    "- Oracle DB\n",
    "- SQL Server"
   ]
  },
  {
   "cell_type": "markdown",
   "metadata": {
    "slideshow": {
     "slide_type": "slide"
    }
   },
   "source": [
    "***\n",
    "## Goal 2: Database terminology\n",
    "\n",
    "### Relational Database Schema\n",
    "\n",
    "![schema](img/MySQL_Schema_Music_Example.png)\n",
    "\n",
    "[source of image](https://database.guide/what-is-a-database-schema/)"
   ]
  },
  {
   "cell_type": "markdown",
   "metadata": {
    "slideshow": {
     "slide_type": "slide"
    }
   },
   "source": [
    "### Table columns view\n",
    "![table example](img/columns.png)"
   ]
  },
  {
   "cell_type": "markdown",
   "metadata": {
    "slideshow": {
     "slide_type": "slide"
    }
   },
   "source": [
    "### Terminology\n",
    "\n",
    "- Schema\n",
    "- Primary Key\n",
    "- Foreign Key\n",
    "- Structured queries\n",
    "- Views"
   ]
  },
  {
   "cell_type": "markdown",
   "metadata": {
    "slideshow": {
     "slide_type": "slide"
    }
   },
   "source": [
    "***\n",
    "### SQLite\n",
    "\n",
    "![sqlite](img/SQLite-Python.jpg)\n",
    "\n",
    "\"SQLite is a C library that provides a lightweight disk-based database that doesn’t require a separate server process and allows accessing the database using a nonstandard variant of the SQL query language. Some applications can use SQLite for internal data storage. It’s also possible to prototype an application using SQLite and then port the code to a larger database such as PostgreSQL or Oracle.\" - [sqlite documentation](https://docs.python.org/2/library/sqlite3.html)\n",
    "\n"
   ]
  },
  {
   "cell_type": "markdown",
   "metadata": {
    "slideshow": {
     "slide_type": "slide"
    }
   },
   "source": [
    "## But what about connecting to database servers?\n",
    "\n",
    "To connect to an Oracle database server there is a different package, `cx_Oracle`. The documentation for that package is [here](https://oracle.github.io/python-cx_Oracle/)"
   ]
  },
  {
   "cell_type": "markdown",
   "metadata": {
    "slideshow": {
     "slide_type": "slide"
    }
   },
   "source": [
    "***\n",
    "## Goal 3: Get going with sqlite!"
   ]
  },
  {
   "cell_type": "code",
   "execution_count": 1,
   "metadata": {
    "slideshow": {
     "slide_type": "fragment"
    }
   },
   "outputs": [],
   "source": [
    "import sqlite3"
   ]
  },
  {
   "cell_type": "code",
   "execution_count": 2,
   "metadata": {},
   "outputs": [
    {
     "name": "stdout",
     "output_type": "stream",
     "text": [
      "total 14360\r\n",
      "drwxr-xr-x  10 yl  staff      320 Aug  2 15:06 \u001b[34m.\u001b[m\u001b[m\r\n",
      "drwxr-xr-x   5 yl  staff      160 Aug  2 16:54 \u001b[34m..\u001b[m\u001b[m\r\n",
      "drwxr-xr-x   3 yl  staff       96 Aug  1 09:36 \u001b[34m.ipynb_checkpoints\u001b[m\u001b[m\r\n",
      "-rw-r--r--   1 yl  staff  1067008 Aug  1 09:33 Chinook_Sqlite.sqlite\r\n",
      "-rw-r--r--   1 yl  staff   492959 Aug  2 09:57 YL -sql-to-pandas.ipynb\r\n",
      "-rw-r--r--   1 yl  staff  5415936 Aug  1 09:33 flights.db\r\n",
      "drwxr-xr-x  13 yl  staff      416 Aug  1 09:33 \u001b[34mimg\u001b[m\u001b[m\r\n",
      "-rw-r--r--   1 yl  staff    26243 Aug  2 15:06 sql-to-pandas-apm.ipynb\r\n",
      "-rw-r--r--   1 yl  staff    17802 Aug  2 15:06 sql-to-pandas.ipynb\r\n",
      "-rw-r--r--   1 yl  staff   317533 Aug  1 09:33 sql-to-pandas.slides.html\r\n"
     ]
    }
   ],
   "source": [
    "!ls -la"
   ]
  },
  {
   "cell_type": "markdown",
   "metadata": {
    "slideshow": {
     "slide_type": "slide"
    }
   },
   "source": [
    "#### Load a DB object with `connect` and `cursor`"
   ]
  },
  {
   "cell_type": "code",
   "execution_count": 3,
   "metadata": {
    "slideshow": {
     "slide_type": "fragment"
    }
   },
   "outputs": [],
   "source": [
    "con = sqlite3.connect('flights.db')\n",
    "cursor = con.cursor()"
   ]
  },
  {
   "cell_type": "markdown",
   "metadata": {
    "slideshow": {
     "slide_type": "slide"
    }
   },
   "source": [
    "#### Use sqlite_master to find all the tables in the schema\n",
    "Get the schema of a database from a db in sqlite"
   ]
  },
  {
   "cell_type": "code",
   "execution_count": 5,
   "metadata": {},
   "outputs": [
    {
     "name": "stdout",
     "output_type": "stream",
     "text": [
      "[('airports',), ('airlines',), ('routes',)]\n"
     ]
    }
   ],
   "source": [
    "cursor.execute(\"SELECT name FROM sqlite_master WHERE type='table';\")\n",
    "print(cursor.fetchall())"
   ]
  },
  {
   "cell_type": "code",
   "execution_count": 6,
   "metadata": {},
   "outputs": [
    {
     "data": {
      "text/plain": [
       "(('name', None, None, None, None, None, None),)"
      ]
     },
     "execution_count": 6,
     "metadata": {},
     "output_type": "execute_result"
    }
   ],
   "source": [
    "cursor.description"
   ]
  },
  {
   "cell_type": "code",
   "execution_count": 7,
   "metadata": {},
   "outputs": [
    {
     "name": "stdout",
     "output_type": "stream",
     "text": [
      "[('airports', 'table'), ('ix_airports_index', 'index'), ('airlines', 'table'), ('ix_airlines_index', 'index'), ('routes', 'table'), ('ix_routes_index', 'index')]\n"
     ]
    }
   ],
   "source": [
    "cursor.execute(\"SELECT name, type FROM sqlite_master;\")\n",
    "print(cursor.fetchall())"
   ]
  },
  {
   "cell_type": "code",
   "execution_count": 8,
   "metadata": {},
   "outputs": [
    {
     "name": "stdout",
     "output_type": "stream",
     "text": [
      "('table', 'airports', 'airports', 2, 'CREATE TABLE airports (\\n[index] INTEGER,\\n  [id] TEXT,\\n  [name] TEXT,\\n  [city] TEXT,\\n  [country] TEXT,\\n  [code] TEXT,\\n  [icao] TEXT,\\n  [latitude] TEXT,\\n  [longitude] TEXT,\\n  [altitude] TEXT,\\n  [offset] TEXT,\\n  [dst] TEXT,\\n  [timezone] TEXT\\n)')\n",
      "('index', 'ix_airports_index', 'airports', 3, 'CREATE INDEX ix_airports_index ON airports ([index])')\n",
      "('table', 'airlines', 'airlines', 945, 'CREATE TABLE airlines (\\n[index] INTEGER,\\n  [id] TEXT,\\n  [name] TEXT,\\n  [alias] TEXT,\\n  [iata] TEXT,\\n  [icao] TEXT,\\n  [callsign] TEXT,\\n  [country] TEXT,\\n  [active] TEXT\\n)')\n",
      "('index', 'ix_airlines_index', 'airlines', 946, 'CREATE INDEX ix_airlines_index ON airlines ([index])')\n",
      "('table', 'routes', 'routes', 1393, 'CREATE TABLE routes (\\n[index] INTEGER,\\n  [airline] TEXT,\\n  [airline_id] TEXT,\\n  [source] TEXT,\\n  [source_id] TEXT,\\n  [dest] TEXT,\\n  [dest_id] TEXT,\\n  [codeshare] TEXT,\\n  [stops] TEXT,\\n  [equipment] TEXT\\n)')\n",
      "('index', 'ix_routes_index', 'routes', 1394, 'CREATE INDEX ix_routes_index ON routes ([index])')\n"
     ]
    }
   ],
   "source": [
    "cursor.execute(\"SELECT * FROM sqlite_master;\")\n",
    "results = cursor.fetchall()\n",
    "for res in results:\n",
    "    print(res)"
   ]
  },
  {
   "cell_type": "markdown",
   "metadata": {
    "slideshow": {
     "slide_type": "slide"
    }
   },
   "source": [
    "#### Get information about one table\n",
    "\n",
    "**A note about** `execute`<br>\n",
    "Each time you use it, you reset the value of cursor"
   ]
  },
  {
   "cell_type": "code",
   "execution_count": 9,
   "metadata": {},
   "outputs": [
    {
     "data": {
      "text/plain": [
       "(0,\n",
       " '1',\n",
       " 'Goroka',\n",
       " 'Goroka',\n",
       " 'Papua New Guinea',\n",
       " 'GKA',\n",
       " 'AYGA',\n",
       " '-6.081689',\n",
       " '145.391881',\n",
       " '5282',\n",
       " '10',\n",
       " 'U',\n",
       " 'Pacific/Port_Moresby')"
      ]
     },
     "execution_count": 9,
     "metadata": {},
     "output_type": "execute_result"
    }
   ],
   "source": [
    "cursor.execute(\"SELECT * FROM airports as a\").fetchone()"
   ]
  },
  {
   "cell_type": "code",
   "execution_count": 10,
   "metadata": {},
   "outputs": [
    {
     "data": {
      "text/plain": [
       "(1,\n",
       " '2',\n",
       " 'Madang',\n",
       " 'Madang',\n",
       " 'Papua New Guinea',\n",
       " 'MAG',\n",
       " 'AYMD',\n",
       " '-5.207083',\n",
       " '145.7887',\n",
       " '20',\n",
       " '10',\n",
       " 'U',\n",
       " 'Pacific/Port_Moresby')"
      ]
     },
     "execution_count": 10,
     "metadata": {},
     "output_type": "execute_result"
    }
   ],
   "source": [
    "cursor.fetchone()"
   ]
  },
  {
   "cell_type": "code",
   "execution_count": 11,
   "metadata": {},
   "outputs": [
    {
     "data": {
      "text/plain": [
       "[(2,\n",
       "  '3',\n",
       "  'Mount Hagen',\n",
       "  'Mount Hagen',\n",
       "  'Papua New Guinea',\n",
       "  'HGU',\n",
       "  'AYMH',\n",
       "  '-5.826789',\n",
       "  '144.295861',\n",
       "  '5388',\n",
       "  '10',\n",
       "  'U',\n",
       "  'Pacific/Port_Moresby'),\n",
       " (3,\n",
       "  '4',\n",
       "  'Nadzab',\n",
       "  'Nadzab',\n",
       "  'Papua New Guinea',\n",
       "  'LAE',\n",
       "  'AYNZ',\n",
       "  '-6.569828',\n",
       "  '146.726242',\n",
       "  '239',\n",
       "  '10',\n",
       "  'U',\n",
       "  'Pacific/Port_Moresby'),\n",
       " (4,\n",
       "  '5',\n",
       "  'Port Moresby Jacksons Intl',\n",
       "  'Port Moresby',\n",
       "  'Papua New Guinea',\n",
       "  'POM',\n",
       "  'AYPY',\n",
       "  '-9.443383',\n",
       "  '147.22005',\n",
       "  '146',\n",
       "  '10',\n",
       "  'U',\n",
       "  'Pacific/Port_Moresby'),\n",
       " (5,\n",
       "  '6',\n",
       "  'Wewak Intl',\n",
       "  'Wewak',\n",
       "  'Papua New Guinea',\n",
       "  'WWK',\n",
       "  'AYWK',\n",
       "  '-3.583828',\n",
       "  '143.669186',\n",
       "  '19',\n",
       "  '10',\n",
       "  'U',\n",
       "  'Pacific/Port_Moresby')]"
      ]
     },
     "execution_count": 11,
     "metadata": {},
     "output_type": "execute_result"
    }
   ],
   "source": [
    "cursor.fetchmany(4)"
   ]
  },
  {
   "cell_type": "markdown",
   "metadata": {
    "slideshow": {
     "slide_type": "slide"
    }
   },
   "source": [
    "#### Use description"
   ]
  },
  {
   "cell_type": "code",
   "execution_count": 12,
   "metadata": {
    "slideshow": {
     "slide_type": "fragment"
    }
   },
   "outputs": [
    {
     "data": {
      "text/plain": [
       "(('index', None, None, None, None, None, None),\n",
       " ('id', None, None, None, None, None, None),\n",
       " ('name', None, None, None, None, None, None),\n",
       " ('city', None, None, None, None, None, None),\n",
       " ('country', None, None, None, None, None, None),\n",
       " ('code', None, None, None, None, None, None),\n",
       " ('icao', None, None, None, None, None, None),\n",
       " ('latitude', None, None, None, None, None, None),\n",
       " ('longitude', None, None, None, None, None, None),\n",
       " ('altitude', None, None, None, None, None, None),\n",
       " ('offset', None, None, None, None, None, None),\n",
       " ('dst', None, None, None, None, None, None),\n",
       " ('timezone', None, None, None, None, None, None))"
      ]
     },
     "execution_count": 12,
     "metadata": {},
     "output_type": "execute_result"
    }
   ],
   "source": [
    "cursor.description"
   ]
  },
  {
   "cell_type": "markdown",
   "metadata": {
    "slideshow": {
     "slide_type": "slide"
    }
   },
   "source": [
    "#### Or use `Pragma`\n",
    "`Pragma` tool [link here](https://www.sqlite.org/pragma.html#pragma_table_info)\n",
    "\n",
    "**output**<br>\n",
    "`(column id, column name, data type, whether or not the column can be NULL, and the default value for the column)`"
   ]
  },
  {
   "cell_type": "code",
   "execution_count": 13,
   "metadata": {
    "slideshow": {
     "slide_type": "slide"
    }
   },
   "outputs": [
    {
     "name": "stdout",
     "output_type": "stream",
     "text": [
      "(0, 'index', 'INTEGER', 0, None, 0)\n",
      "(1, 'id', 'TEXT', 0, None, 0)\n",
      "(2, 'name', 'TEXT', 0, None, 0)\n",
      "(3, 'city', 'TEXT', 0, None, 0)\n",
      "(4, 'country', 'TEXT', 0, None, 0)\n",
      "(5, 'code', 'TEXT', 0, None, 0)\n",
      "(6, 'icao', 'TEXT', 0, None, 0)\n",
      "(7, 'latitude', 'TEXT', 0, None, 0)\n",
      "(8, 'longitude', 'TEXT', 0, None, 0)\n",
      "(9, 'altitude', 'TEXT', 0, None, 0)\n",
      "(10, 'offset', 'TEXT', 0, None, 0)\n",
      "(11, 'dst', 'TEXT', 0, None, 0)\n",
      "(12, 'timezone', 'TEXT', 0, None, 0)\n"
     ]
    }
   ],
   "source": [
    "cursor.execute(\"PRAGMA table_info(airports)\")\n",
    "info = cursor.fetchall()\n",
    "print(*info, sep = \"\\n\") "
   ]
  },
  {
   "cell_type": "markdown",
   "metadata": {
    "slideshow": {
     "slide_type": "slide"
    }
   },
   "source": [
    "#### Making fetch happen\n",
    "\n",
    "`.fetchall()` is how you get the query results out of the object.\n",
    "\n",
    "You can also `.fetchone()` or `.fetchmany()`"
   ]
  },
  {
   "cell_type": "markdown",
   "metadata": {
    "slideshow": {
     "slide_type": "slide"
    }
   },
   "source": [
    "**Task:** Get the descriptive data for airlines and routes tables"
   ]
  },
  {
   "cell_type": "code",
   "execution_count": 14,
   "metadata": {},
   "outputs": [
    {
     "name": "stdout",
     "output_type": "stream",
     "text": [
      "(0, 'index', 'INTEGER', 0, None, 0)\n",
      "(1, 'id', 'TEXT', 0, None, 0)\n",
      "(2, 'name', 'TEXT', 0, None, 0)\n",
      "(3, 'alias', 'TEXT', 0, None, 0)\n",
      "(4, 'iata', 'TEXT', 0, None, 0)\n",
      "(5, 'icao', 'TEXT', 0, None, 0)\n",
      "(6, 'callsign', 'TEXT', 0, None, 0)\n",
      "(7, 'country', 'TEXT', 0, None, 0)\n",
      "(8, 'active', 'TEXT', 0, None, 0)\n"
     ]
    }
   ],
   "source": [
    "cursor.execute(\"PRAGMA table_info(airlines)\")\n",
    "info = cursor.fetchall()\n",
    "print(*info, sep = \"\\n\")"
   ]
  },
  {
   "cell_type": "code",
   "execution_count": 15,
   "metadata": {},
   "outputs": [
    {
     "name": "stdout",
     "output_type": "stream",
     "text": [
      "(0, 'index', 'INTEGER', 0, None, 0)\n",
      "(1, 'airline', 'TEXT', 0, None, 0)\n",
      "(2, 'airline_id', 'TEXT', 0, None, 0)\n",
      "(3, 'source', 'TEXT', 0, None, 0)\n",
      "(4, 'source_id', 'TEXT', 0, None, 0)\n",
      "(5, 'dest', 'TEXT', 0, None, 0)\n",
      "(6, 'dest_id', 'TEXT', 0, None, 0)\n",
      "(7, 'codeshare', 'TEXT', 0, None, 0)\n",
      "(8, 'stops', 'TEXT', 0, None, 0)\n",
      "(9, 'equipment', 'TEXT', 0, None, 0)\n"
     ]
    }
   ],
   "source": [
    "cursor.execute(\"PRAGMA table_info(routes)\")\n",
    "info = cursor.fetchall()\n",
    "print(*info, sep = \"\\n\")"
   ]
  },
  {
   "cell_type": "markdown",
   "metadata": {
    "slideshow": {
     "slide_type": "slide"
    }
   },
   "source": [
    "***\n",
    "## Goal 4: Use basic SQL commands \n",
    "- Construct SQL queries\n",
    "- Use JOIN to merge tables along logical columns\n",
    "- Grouping Data with SQL"
   ]
  },
  {
   "cell_type": "code",
   "execution_count": null,
   "metadata": {},
   "outputs": [],
   "source": [
    "cursor.execute(\"\"\"select \"Flatiron School\\\"\"\"\").fetchall()"
   ]
  },
  {
   "cell_type": "markdown",
   "metadata": {
    "slideshow": {
     "slide_type": "slide"
    }
   },
   "source": [
    "### Construct SQL queries"
   ]
  },
  {
   "cell_type": "markdown",
   "metadata": {
    "slideshow": {
     "slide_type": "fragment"
    }
   },
   "source": [
    "**Select**"
   ]
  },
  {
   "cell_type": "markdown",
   "metadata": {
    "slideshow": {
     "slide_type": "fragment"
    }
   },
   "source": [
    "**From**"
   ]
  },
  {
   "cell_type": "markdown",
   "metadata": {
    "slideshow": {
     "slide_type": "fragment"
    }
   },
   "source": [
    "**Where**"
   ]
  },
  {
   "cell_type": "markdown",
   "metadata": {
    "slideshow": {
     "slide_type": "fragment"
    }
   },
   "source": [
    "**Order by**"
   ]
  },
  {
   "cell_type": "markdown",
   "metadata": {
    "slideshow": {
     "slide_type": "fragment"
    }
   },
   "source": [
    "**Limit**"
   ]
  },
  {
   "cell_type": "markdown",
   "metadata": {
    "slideshow": {
     "slide_type": "slide"
    }
   },
   "source": [
    "#### Options for each:"
   ]
  },
  {
   "cell_type": "markdown",
   "metadata": {
    "slideshow": {
     "slide_type": "fragment"
    }
   },
   "source": [
    "**Select**:  `distinct`, using `as` to rename columns, single number aggregates"
   ]
  },
  {
   "cell_type": "markdown",
   "metadata": {
    "slideshow": {
     "slide_type": "fragment"
    }
   },
   "source": [
    "**From:** also uses aliasing with `as`"
   ]
  },
  {
   "cell_type": "markdown",
   "metadata": {
    "slideshow": {
     "slide_type": "fragment"
    }
   },
   "source": [
    "**Where**: equals is only one `=`, `between`, `in`, wildcards `%`, `AND`, `OR`, `NOT`"
   ]
  },
  {
   "cell_type": "markdown",
   "metadata": {
    "slideshow": {
     "slide_type": "fragment"
    }
   },
   "source": [
    "**Order by**: `asc` and `desc`"
   ]
  },
  {
   "cell_type": "markdown",
   "metadata": {
    "slideshow": {
     "slide_type": "fragment"
    }
   },
   "source": [
    "**Limit**:  #"
   ]
  },
  {
   "cell_type": "markdown",
   "metadata": {
    "slideshow": {
     "slide_type": "slide"
    }
   },
   "source": [
    "**Task**: \n",
    "- Select only active airlines in the UK from the airlines table\n",
    "- Select the unique list of countries with airports"
   ]
  },
  {
   "cell_type": "code",
   "execution_count": 16,
   "metadata": {},
   "outputs": [
    {
     "data": {
      "text/plain": [
       "[(None,),\n",
       " ('United States',),\n",
       " ('South Africa',),\n",
       " ('United Kingdom',),\n",
       " ('Russia',),\n",
       " ('Thailand',),\n",
       " ('Canada',),\n",
       " ('Australia',),\n",
       " ('Singapore',),\n",
       " ('Belgium',),\n",
       " ('Mexico',),\n",
       " ('Spain',),\n",
       " ('France',),\n",
       " ('United Arab Emirates',),\n",
       " ('Republic of Korea',),\n",
       " ('Pakistan',),\n",
       " ('Libya',),\n",
       " ('Gambia',),\n",
       " ('Ivory Coast',),\n",
       " ('Ukraine',),\n",
       " ('Democratic Republic of the Congo',),\n",
       " ('Iran',),\n",
       " ('Finland',),\n",
       " ('Brazil',),\n",
       " ('Colombia',),\n",
       " ('AEROCENTER',),\n",
       " ('Ghana',),\n",
       " ('Kenya',),\n",
       " ('Liberia',),\n",
       " ('Togo',),\n",
       " ('Somali Republic',),\n",
       " ('Morocco',),\n",
       " ('Canadian Territories',),\n",
       " ('Dominican Republic',),\n",
       " ('Japan',),\n",
       " ('Albania',),\n",
       " ('Nigeria',),\n",
       " ('Germany',),\n",
       " ('Slovenia',),\n",
       " ('Czech Republic',),\n",
       " ('Benin',),\n",
       " ('AEROCESAR',),\n",
       " ('Greece',),\n",
       " ('Chile',),\n",
       " ('Tanzania',),\n",
       " ('Bolivia',),\n",
       " ('Italy',),\n",
       " ('Sweden',),\n",
       " ('Argentina',),\n",
       " ('Sierra Leone',),\n",
       " ('Indonesia',),\n",
       " ('Senegal',),\n",
       " ('Afghanistan',),\n",
       " ('Uganda',),\n",
       " ('Bosnia and Herzegovina',),\n",
       " ('Gabon',),\n",
       " ('Angola',),\n",
       " ('Uzbekistan',),\n",
       " ('Namibia',),\n",
       " ('Turkey',),\n",
       " ('Vietnam',),\n",
       " ('Zambia',),\n",
       " ('Venezuela',),\n",
       " ('Egypt',),\n",
       " ('Ireland',),\n",
       " ('Switzerland',),\n",
       " ('Serbia',),\n",
       " ('Peru',),\n",
       " ('Slovakia',),\n",
       " ('Denmark',),\n",
       " ('Azerbaijan',),\n",
       " ('AIRPORT HELICOPTER',),\n",
       " ('Hong Kong',),\n",
       " ('Croatia',),\n",
       " ('Hungary',),\n",
       " ('Estonia',),\n",
       " ('Swaziland',),\n",
       " ('India',),\n",
       " ('Reunion',),\n",
       " ('Iceland',),\n",
       " ('Israel',),\n",
       " ('Austria',),\n",
       " ('Jamaica',),\n",
       " ('Malta',),\n",
       " ('Portugal',),\n",
       " ('Cyprus',),\n",
       " ('Kazakhstan',),\n",
       " ('Kyrgyzstan',),\n",
       " ('Turkmenistan',),\n",
       " ('Kiribati',),\n",
       " ('Cambodia',),\n",
       " ('Netherlands Antilles',),\n",
       " ('Sao Tome and Principe',),\n",
       " ('ALNACIONAL',),\n",
       " ('Lithuania',),\n",
       " ('Maldives',),\n",
       " ('Malawi',),\n",
       " ('Moldova',),\n",
       " ('Montenegro',),\n",
       " ('Macao',),\n",
       " ('Seychelles',),\n",
       " ('Bulgaria',),\n",
       " ('Papua New Guinea',),\n",
       " ('Latvia',),\n",
       " ('ANTARES',),\n",
       " ('AVINOR',),\n",
       " ('New Zealand',),\n",
       " ('ALCON',),\n",
       " ('ASTORIA',),\n",
       " ('COMPANY AS',),\n",
       " ('Philippines',),\n",
       " ('AIRPAC',),\n",
       " ('AIRFLIGHT',),\n",
       " ('ASA PESADA',),\n",
       " ('AIR PRINT',),\n",
       " ('APPALACHIAN',),\n",
       " ('ALASKA PACIFIC',),\n",
       " ('AEROPERLAS',),\n",
       " ('AEROPUMA',),\n",
       " ('ATCO',),\n",
       " ('AVIOQUINTANA',),\n",
       " ('Aruba',),\n",
       " (' S.A.',),\n",
       " ('ARMSTRONG',),\n",
       " ('Armenia',),\n",
       " ('AIREX',),\n",
       " ('Chad',),\n",
       " ('ALASKA',),\n",
       " ('SCHEFF',),\n",
       " ('AEROSUN',),\n",
       " ('ALL STAR',),\n",
       " ('AIR CLASS',),\n",
       " ('Nepal',),\n",
       " ('Sudan',),\n",
       " ('Panama',),\n",
       " ('Guinea-Bissau',),\n",
       " ('ATLANTIS CANADA',),\n",
       " ('Burkina Faso',),\n",
       " ('Netherlands',),\n",
       " ('Ecuador',),\n",
       " ('AUDI AIR',),\n",
       " ('Uruguay',),\n",
       " ('AURORA AIR',),\n",
       " ('AUSA',),\n",
       " ('AVIANCA',),\n",
       " ('ALAMO',),\n",
       " ('Djibouti',),\n",
       " ('AVEMEX',),\n",
       " ('Vanuatu',),\n",
       " ('AQUILINE',),\n",
       " ('ACTIVE AERO',),\n",
       " ('Bangladesh',),\n",
       " ('Georgia',),\n",
       " ('El Salvador',),\n",
       " ('AEROVARADERO',),\n",
       " ('AIRNAT',),\n",
       " ('Niger',),\n",
       " ('Jordan',),\n",
       " ('AIRWAVE',),\n",
       " ('AEROWEE',),\n",
       " ('AIR FREIGHTER',),\n",
       " ('Malaysia',),\n",
       " ('RENTAXEL',),\n",
       " ('Macedonia',),\n",
       " ('AIRMAN',),\n",
       " ('ATLANTIC NICARAGUA',),\n",
       " ('AZIMUT',),\n",
       " ('Zimbabwe',),\n",
       " ('ARIZAIR',),\n",
       " ('Lebanon',),\n",
       " ('Guatemala',),\n",
       " ('Bahrain',),\n",
       " ('Barbados',),\n",
       " ('Botswana',),\n",
       " ('French Polynesia',),\n",
       " ('Russian Federation',),\n",
       " ('China',),\n",
       " ('Belize',),\n",
       " ('Mozambique',),\n",
       " ('Marshall Islands',),\n",
       " ('Algeria',),\n",
       " ('Ethiopia',),\n",
       " ('Air S',),\n",
       " ('Fiji',),\n",
       " ('Mali',),\n",
       " ('Faroe Islands',),\n",
       " ('Mauritania',),\n",
       " ('Cameroon',),\n",
       " ('Guinea',),\n",
       " ('Belarus',),\n",
       " ('French Guiana',),\n",
       " ('Haiti',),\n",
       " ('Comoros',),\n",
       " ('Honduras',),\n",
       " ('Norway',),\n",
       " ('Myanmar',),\n",
       " (\"Democratic People's Republic of Korea\",),\n",
       " ('Mauritius',),\n",
       " ('Madagascar',),\n",
       " ('Mongolia',),\n",
       " ('Burundi',),\n",
       " ('Sri Lanka',),\n",
       " ('Romania',),\n",
       " ('Republic of the Congo',),\n",
       " ('Rwanda',),\n",
       " ('Nicaragua',),\n",
       " ('Turks and Caicos Islands',),\n",
       " ('S',),\n",
       " ('Bahamas',),\n",
       " ('Suriname',),\n",
       " ('Syrian Arab Republic',),\n",
       " ('AIR-MAUR',),\n",
       " ('Cape Verde',),\n",
       " ('Luxembourg',),\n",
       " ('Oman',),\n",
       " ('Antigua and Barbuda',),\n",
       " ('Trinidad and Tobago',),\n",
       " ('Hong Kong SAR of China',),\n",
       " ('Cayman Islands',),\n",
       " ('Central African Republic',),\n",
       " ('Democratic Republic of Congo',),\n",
       " ('Poland',),\n",
       " ('Taiwan',),\n",
       " ('ASUR',),\n",
       " ('Paraguay',),\n",
       " ('Cuba',),\n",
       " ('DRAGON',),\n",
       " ('Bhutan',),\n",
       " ('Equatorial Guinea',),\n",
       " ('UNIFORM OSCAR',),\n",
       " ('Russia]]',),\n",
       " ('Eritrea',),\n",
       " ('Tunisia',),\n",
       " ('Costa Rica',),\n",
       " ('Saint Lucia',),\n",
       " ('Monaco',),\n",
       " ('Solomon Islands',),\n",
       " ('ALDAWLYH AIR',),\n",
       " ('Iraq',),\n",
       " ('Kuwait',),\n",
       " ('ODINN',),\n",
       " ('LAP',),\n",
       " ('Lao Peoples Democratic Republic',),\n",
       " ('Bermuda',),\n",
       " ('WATCHDOG',),\n",
       " ('Montserrat',),\n",
       " ('Nauru',),\n",
       " ('Saudi Arabia',),\n",
       " ('Palau',),\n",
       " ('Tonga',),\n",
       " ('Samoa',),\n",
       " ('Qatar',),\n",
       " ('UNited Kingdom',),\n",
       " ('Netherland',),\n",
       " ('Guyana',),\n",
       " ('Cook Islands',),\n",
       " ('Brunei',),\n",
       " ('ACOM',),\n",
       " (' Boonville Stage Line',),\n",
       " ('Saint Vincent and the Grenadines',),\n",
       " ('SWISSBIRD',),\n",
       " ('Yemen',),\n",
       " ('Tajikistan',),\n",
       " ('AEROSOL',),\n",
       " ('Saint Kitts and Nevis',),\n",
       " ('VELES',),\n",
       " (\"Cote d'Ivoire\",),\n",
       " ('\\\\N',),\n",
       " ('Burma',),\n",
       " ('South Korea',),\n",
       " ('Guadeloupe',),\n",
       " ('Congo (Kinshasa)',),\n",
       " ('Syria',),\n",
       " ('American Samoa',),\n",
       " ('British Virgin Islands',),\n",
       " ('Puerto Rico',),\n",
       " ('Congo (Brazzaville)',)]"
      ]
     },
     "execution_count": 16,
     "metadata": {},
     "output_type": "execute_result"
    }
   ],
   "source": [
    "cursor.execute(\"\"\"SELECT distinct country \n",
    "                  FROM airlines\"\"\").fetchall()"
   ]
  },
  {
   "cell_type": "code",
   "execution_count": 17,
   "metadata": {},
   "outputs": [
    {
     "data": {
      "text/plain": [
       "[('Astraeus',),\n",
       " ('Air Southwest',),\n",
       " ('Aurigny Air Services',),\n",
       " ('Air Wales',),\n",
       " ('AD Aviation',)]"
      ]
     },
     "execution_count": 17,
     "metadata": {},
     "output_type": "execute_result"
    }
   ],
   "source": [
    "cursor.execute(\"\"\"\n",
    "SELECT name\n",
    "FROM airlines\n",
    "WHERE active = 'Y'\n",
    "  AND country = 'United Kingdom';\n",
    "\"\"\")\n",
    "cursor.fetchmany(5)"
   ]
  },
  {
   "cell_type": "markdown",
   "metadata": {
    "slideshow": {
     "slide_type": "slide"
    }
   },
   "source": [
    "### SQL Joins"
   ]
  },
  {
   "cell_type": "markdown",
   "metadata": {
    "slideshow": {
     "slide_type": "fragment"
    }
   },
   "source": [
    "SQL joins can be used to both **add** data to a table and **remove** data from a table. "
   ]
  },
  {
   "cell_type": "markdown",
   "metadata": {
    "slideshow": {
     "slide_type": "fragment"
    }
   },
   "source": [
    "![venn](img/venn.png)"
   ]
  },
  {
   "cell_type": "markdown",
   "metadata": {
    "slideshow": {
     "slide_type": "slide"
    }
   },
   "source": [
    "**Task** Write a query that will join the latitude and longitude data from the airports table to the information on the routes table"
   ]
  },
  {
   "cell_type": "code",
   "execution_count": null,
   "metadata": {
    "slideshow": {
     "slide_type": "skip"
    }
   },
   "outputs": [],
   "source": [
    "cursor.execute(\"\"\"\n",
    "SELECT *\n",
    "FROM routes\n",
    "\"\"\")\n",
    "print(*cursor.description, sep='\\n')"
   ]
  },
  {
   "cell_type": "code",
   "execution_count": null,
   "metadata": {},
   "outputs": [],
   "source": [
    "cursor.execute(\"\"\"\n",
    "SELECT *\n",
    "FROM airports\n",
    "\"\"\")\n",
    "print(*cursor.description, sep='\\n')"
   ]
  },
  {
   "cell_type": "code",
   "execution_count": null,
   "metadata": {},
   "outputs": [],
   "source": [
    "cursor.execute(\"\"\"SELECT a.latitude, a.longitude, r.airline, r.source, r.dest\n",
    "                    FROM airports as a\n",
    "                    JOIN routes as r on r.source_id = a.id  \"\"\").fetchone()\n"
   ]
  },
  {
   "cell_type": "markdown",
   "metadata": {
    "slideshow": {
     "slide_type": "slide"
    }
   },
   "source": [
    "### Grouping statements\n",
    "\n",
    "Combines `select` and `group by` when you want aggregates by values"
   ]
  },
  {
   "cell_type": "markdown",
   "metadata": {
    "slideshow": {
     "slide_type": "fragment"
    }
   },
   "source": [
    "`select` `min(x)` ... `max()`, `sum()`, etc"
   ]
  },
  {
   "cell_type": "markdown",
   "metadata": {
    "slideshow": {
     "slide_type": "fragment"
    }
   },
   "source": [
    "`group by x`"
   ]
  },
  {
   "cell_type": "markdown",
   "metadata": {
    "slideshow": {
     "slide_type": "slide"
    }
   },
   "source": [
    "**Task**<br>\n",
    "- Which countries have the highest amount of active airlines?\n",
    "- Which countries have the highest amount of inactive airlines?\n",
    "- What about airports by timezones?"
   ]
  },
  {
   "cell_type": "code",
   "execution_count": null,
   "metadata": {
    "slideshow": {
     "slide_type": "skip"
    }
   },
   "outputs": [],
   "source": [
    "# Which countries have the highest amount of active airlines?\n",
    "cursor.execute(\"\"\"\n",
    "SELECT country, count(*) AS count\n",
    "FROM airlines\n",
    "WHERE active = 'Y'\n",
    "GROUP BY country\n",
    "ORDER BY count DESC\n",
    "LIMIT 10\n",
    "\"\"\")\n",
    "print(*cursor.fetchall(), sep='\\n')"
   ]
  },
  {
   "cell_type": "code",
   "execution_count": null,
   "metadata": {
    "slideshow": {
     "slide_type": "skip"
    }
   },
   "outputs": [],
   "source": [
    "# Which countries have the highest amount of inactive airports?\n",
    "cursor.execute(\"\"\"\n",
    "SELECT country, count(*) AS count\n",
    "FROM airlines\n",
    "WHERE active = 'N'\n",
    "GROUP BY country\n",
    "ORDER BY count DESC\n",
    "LIMIT 10\n",
    "\"\"\")\n",
    "print(*cursor.fetchall(), sep='\\n')"
   ]
  },
  {
   "cell_type": "code",
   "execution_count": null,
   "metadata": {
    "slideshow": {
     "slide_type": "skip"
    }
   },
   "outputs": [],
   "source": [
    "# What about airports by timezones?\n",
    "cursor.execute(\"\"\"\n",
    "SELECT timezone, count(*) AS count\n",
    "FROM airports\n",
    "GROUP BY 1\n",
    "ORDER BY 2 DESC\n",
    "LIMIT 10\n",
    "\"\"\")\n",
    "print(*cursor.fetchall(), sep='\\n')"
   ]
  },
  {
   "cell_type": "code",
   "execution_count": null,
   "metadata": {},
   "outputs": [],
   "source": [
    "# It's always a good idea to close our connections when we're done\n",
    "cursor.close()\n",
    "con.close()"
   ]
  },
  {
   "cell_type": "markdown",
   "metadata": {
    "slideshow": {
     "slide_type": "slide"
    }
   },
   "source": [
    "## Goal 5: Using sql within pandas to filter\n",
    "\n",
    "`.query()`\n",
    "\n",
    "[query documentation](https://pandas.pydata.org/pandas-docs/stable/reference/api/pandas.DataFrame.query.html)"
   ]
  },
  {
   "cell_type": "code",
   "execution_count": null,
   "metadata": {
    "slideshow": {
     "slide_type": "slide"
    }
   },
   "outputs": [],
   "source": [
    "# Get data for an example\n",
    "import pandas as pd\n",
    "shelter_data=pd.read_csv('https://data.austintexas.gov/api/views/9t4d-g238/rows.csv?accessType=DOWNLOAD')\n",
    "shelter_data.dtypes"
   ]
  },
  {
   "cell_type": "code",
   "execution_count": null,
   "metadata": {
    "slideshow": {
     "slide_type": "slide"
    }
   },
   "outputs": [],
   "source": [
    "max_data = shelter_data.query('Name == \"Max\"')\n",
    "max_data.head()\n",
    "#vs\n",
    "shelter_data[shelter_data['Name']==\"Max\"]"
   ]
  },
  {
   "cell_type": "code",
   "execution_count": null,
   "metadata": {
    "slideshow": {
     "slide_type": "slide"
    }
   },
   "outputs": [],
   "source": [
    "shelter_data.rename(index=str, columns={\"Animal Type\": \"animal_type\"}, inplace = True)\n",
    "test = shelter_data.query('animal_type == \"Dog\"')\n",
    "test.head()"
   ]
  },
  {
   "cell_type": "markdown",
   "metadata": {
    "slideshow": {
     "slide_type": "slide"
    }
   },
   "source": [
    "## Goal 6: Transfering from sqlite to pandas"
   ]
  },
  {
   "cell_type": "code",
   "execution_count": null,
   "metadata": {
    "slideshow": {
     "slide_type": "fragment"
    }
   },
   "outputs": [],
   "source": [
    "pd_con = sqlite3.connect(\"flights.db\")\n",
    "df = pd.read_sql_query(\"select * from airports limit 5;\", pd_con)\n",
    "df"
   ]
  },
  {
   "cell_type": "markdown",
   "metadata": {
    "slideshow": {
     "slide_type": "slide"
    }
   },
   "source": [
    "**Task**: \n",
    "Convert one of the earlier queries in the lesson to a pandas data frame"
   ]
  },
  {
   "cell_type": "code",
   "execution_count": null,
   "metadata": {},
   "outputs": [],
   "source": [
    "# Which countries have the highest amount of active airports?\n",
    "df = pd.read_sql_query(\"\"\"\n",
    "SELECT country, count(*) AS count\n",
    "FROM airlines\n",
    "WHERE active = 'Y'\n",
    "GROUP BY country\n",
    "ORDER BY 2 DESC\n",
    "LIMIT 10\n",
    "\"\"\", pd_con)\n",
    "df"
   ]
  },
  {
   "cell_type": "markdown",
   "metadata": {
    "slideshow": {
     "slide_type": "slide"
    }
   },
   "source": [
    "## Integration\n",
    "\n",
    "The [Chinook database](https://github.com/lerocha/chinook-database) is a sample database, representing a digital media store.\n",
    "\n",
    "You need to create a query that can rank tracks in term of popularity.\n",
    "\n",
    "The name of the database is `Chinook_Sqlite.sqlite`"
   ]
  },
  {
   "cell_type": "markdown",
   "metadata": {
    "slideshow": {
     "slide_type": "slide"
    }
   },
   "source": [
    "Database information:<br>\n",
    "- How many tables are in the database?\n",
    "- What's the primary key of each table?\n",
    "- What foreign keys join the tables together?\n",
    "- If you had to draw a schema of how the tables are connected, what would it look like?"
   ]
  },
  {
   "cell_type": "markdown",
   "metadata": {
    "slideshow": {
     "slide_type": "slide"
    }
   },
   "source": [
    "To answer the question:<br>\n",
    "- What are the max and min dates in the Invoice table?\n",
    "- What tables would you need to answer \"what is your most popular track?\"\n",
    "- What values from each table?"
   ]
  },
  {
   "cell_type": "code",
   "execution_count": null,
   "metadata": {
    "slideshow": {
     "slide_type": "skip"
    }
   },
   "outputs": [],
   "source": [
    "conn = sqlite3.connect('Chinook_Sqlite.sqlite')\n",
    "cur = conn.cursor()"
   ]
  },
  {
   "cell_type": "code",
   "execution_count": null,
   "metadata": {},
   "outputs": [],
   "source": [
    "# How many tables are in the database?\n",
    "cur.execute(\"SELECT count(*) as table_count FROM sqlite_master WHERE type = 'table';\").fetchone()"
   ]
  },
  {
   "cell_type": "code",
   "execution_count": null,
   "metadata": {},
   "outputs": [],
   "source": [
    "# What's the primary key of each table?\n",
    "table_names = cur.execute(\"SELECT name FROM sqlite_master WHERE type = 'table';\").fetchall()\n",
    "for table_name in table_names:\n",
    "    tname = table_name[0]\n",
    "    # table_name is still a tuple of length 1, so we have to unpack to get the table name value\n",
    "    results = cur.execute(f\"PRAGMA table_info({tname});\").fetchall()\n",
    "\n",
    "    # column name is 2nd column,\n",
    "    # primary key is the 4th column, according to https://www.sqlite.org/pragma.html#pragma_table_info\n",
    "    pk_column_name = [x[1] for x in results if x[3] == 1]\n",
    "    print(f\"{tname}.{pk_column_name[0]}\")"
   ]
  },
  {
   "cell_type": "code",
   "execution_count": null,
   "metadata": {},
   "outputs": [],
   "source": [
    "# What foreign keys join the tables together?\n",
    "table_names = cur.execute(\"SELECT name FROM sqlite_master WHERE type = 'table';\").fetchall()\n",
    "for table_name in table_names:\n",
    "    tname = table_name[0]\n",
    "    # table_name is still a tuple of length 1, so we have to unpack to get the table name value\n",
    "    results = cur.execute(f\"PRAGMA foreign_key_list({tname});\").fetchall()\n",
    "    if results:\n",
    "        print(tname, 'table:')\n",
    "        print(*results, sep='\\n')"
   ]
  },
  {
   "cell_type": "code",
   "execution_count": null,
   "metadata": {},
   "outputs": [],
   "source": [
    "# What are the max and min dates in the Invoice table?\n",
    "cur.execute(\"\"\"\n",
    "SELECT max(InvoiceDate) AS max_date,\n",
    "min(InvoiceDate) AS min_date\n",
    "FROM Invoice\"\"\").fetchall()"
   ]
  },
  {
   "cell_type": "code",
   "execution_count": null,
   "metadata": {},
   "outputs": [],
   "source": [
    "# What tables would you need to answer \"what is your most popular track?\"\n",
    "\n",
    "# Track (for track info)\n",
    "# InvoiceLine (for track puchase quantity)"
   ]
  },
  {
   "cell_type": "code",
   "execution_count": null,
   "metadata": {},
   "outputs": [],
   "source": [
    "# What values from each table?\n",
    "\n",
    "# Track.TrackId, Track.Name, Track.AlbumId\n",
    "# InvoiceLine.TrackId, InvoiceLine.Quantity\n",
    "# Album.AlbumId, Album.ArtistId\n",
    "# Artist.ArtistId, Artist.Name"
   ]
  },
  {
   "cell_type": "code",
   "execution_count": null,
   "metadata": {},
   "outputs": [],
   "source": [
    "# Put it all together:\n",
    "# You need to create a query that can rank tracks in term of popularity.\n",
    "\n",
    "results = cur.execute(\"\"\"\n",
    "SELECT\n",
    "t.name as track_name,\n",
    "sum(il.quantity) AS purchase_count\n",
    "FROM Track t\n",
    "JOIN InvoiceLine il USING (TrackId)\n",
    "GROUP BY 1\n",
    "ORDER BY 2 DESC\n",
    "LIMIT 10\n",
    "\"\"\").fetchall()\n",
    "\n",
    "print(*results, sep='\\n')"
   ]
  },
  {
   "cell_type": "code",
   "execution_count": null,
   "metadata": {},
   "outputs": [],
   "source": [
    "# Advanced: get the artist who sang the song!\n",
    "results = cur.execute(\"\"\"\n",
    "SELECT\n",
    "t.name as track_name,\n",
    "a.name as artist_name,\n",
    "sum(il.quantity) AS purchase_count\n",
    "FROM Track t\n",
    "JOIN InvoiceLine il USING (TrackId)\n",
    "JOIN Album USING (AlbumId)\n",
    "JOIN Artist a USING (ArtistId)\n",
    "GROUP BY 1, 2\n",
    "ORDER BY 3 DESC\n",
    "LIMIT 10\n",
    "\"\"\").fetchall()\n",
    "\n",
    "print(*results, sep='\\n')"
   ]
  },
  {
   "cell_type": "markdown",
   "metadata": {
    "slideshow": {
     "slide_type": "slide"
    }
   },
   "source": [
    "## Reflection"
   ]
  }
 ],
 "metadata": {
  "kernelspec": {
   "display_name": "Python 3",
   "language": "python",
   "name": "python3"
  },
  "language_info": {
   "codemirror_mode": {
    "name": "ipython",
    "version": 3
   },
   "file_extension": ".py",
   "mimetype": "text/x-python",
   "name": "python",
   "nbconvert_exporter": "python",
   "pygments_lexer": "ipython3",
   "version": "3.7.3"
  }
 },
 "nbformat": 4,
 "nbformat_minor": 2
}

{
 "cells": [
  {
   "cell_type": "markdown",
   "metadata": {},
   "source": [
    "# Class Imbalance and Model Evaluation/Comparison\n",
    "\n",
    "Agenda:\n",
    "- Review class imbalance\n",
    "- Review code for different ways to handle class imbalance\n",
    "- Review model evalutation metrics\n",
    "- Review how to compare models"
   ]
  },
  {
   "cell_type": "code",
<<<<<<< HEAD
   "execution_count": 1,
=======
   "execution_count": 15,
>>>>>>> ab874bf32bf6a963f31c7251004b743164ff84bb
   "metadata": {},
   "outputs": [],
   "source": [
    "import pandas as pd\n",
    "import numpy as np\n",
    "from sklearn import metrics"
   ]
  },
  {
   "cell_type": "code",
<<<<<<< HEAD
   "execution_count": 2,
=======
   "execution_count": 16,
>>>>>>> ab874bf32bf6a963f31c7251004b743164ff84bb
   "metadata": {},
   "outputs": [
    {
     "data": {
      "text/html": [
       "<div>\n",
       "<style scoped>\n",
       "    .dataframe tbody tr th:only-of-type {\n",
       "        vertical-align: middle;\n",
       "    }\n",
       "\n",
       "    .dataframe tbody tr th {\n",
       "        vertical-align: top;\n",
       "    }\n",
       "\n",
       "    .dataframe thead th {\n",
       "        text-align: right;\n",
       "    }\n",
       "</style>\n",
       "<table border=\"1\" class=\"dataframe\">\n",
       "  <thead>\n",
       "    <tr style=\"text-align: right;\">\n",
       "      <th></th>\n",
       "      <th>Survived</th>\n",
       "      <th>Pclass</th>\n",
       "      <th>Age</th>\n",
       "      <th>SibSp</th>\n",
       "      <th>Parch</th>\n",
       "      <th>Fare</th>\n",
       "      <th>youngin</th>\n",
       "      <th>male</th>\n",
       "      <th>Q</th>\n",
       "      <th>S</th>\n",
       "    </tr>\n",
       "    <tr>\n",
       "      <th>PassengerId</th>\n",
       "      <th></th>\n",
       "      <th></th>\n",
       "      <th></th>\n",
       "      <th></th>\n",
       "      <th></th>\n",
       "      <th></th>\n",
       "      <th></th>\n",
       "      <th></th>\n",
       "      <th></th>\n",
       "      <th></th>\n",
       "    </tr>\n",
       "  </thead>\n",
       "  <tbody>\n",
       "    <tr>\n",
       "      <th>1</th>\n",
       "      <td>0</td>\n",
       "      <td>3</td>\n",
       "      <td>22.0</td>\n",
       "      <td>1</td>\n",
       "      <td>0</td>\n",
       "      <td>7.2500</td>\n",
       "      <td>0</td>\n",
       "      <td>1</td>\n",
       "      <td>0</td>\n",
       "      <td>1</td>\n",
       "    </tr>\n",
       "    <tr>\n",
       "      <th>2</th>\n",
       "      <td>1</td>\n",
       "      <td>1</td>\n",
       "      <td>38.0</td>\n",
       "      <td>1</td>\n",
       "      <td>0</td>\n",
       "      <td>71.2833</td>\n",
       "      <td>0</td>\n",
       "      <td>0</td>\n",
       "      <td>0</td>\n",
       "      <td>0</td>\n",
       "    </tr>\n",
       "    <tr>\n",
       "      <th>3</th>\n",
       "      <td>1</td>\n",
       "      <td>3</td>\n",
       "      <td>26.0</td>\n",
       "      <td>0</td>\n",
       "      <td>0</td>\n",
       "      <td>7.9250</td>\n",
       "      <td>0</td>\n",
       "      <td>0</td>\n",
       "      <td>0</td>\n",
       "      <td>1</td>\n",
       "    </tr>\n",
       "    <tr>\n",
       "      <th>4</th>\n",
       "      <td>1</td>\n",
       "      <td>1</td>\n",
       "      <td>35.0</td>\n",
       "      <td>1</td>\n",
       "      <td>0</td>\n",
       "      <td>53.1000</td>\n",
       "      <td>0</td>\n",
       "      <td>0</td>\n",
       "      <td>0</td>\n",
       "      <td>1</td>\n",
       "    </tr>\n",
       "    <tr>\n",
       "      <th>5</th>\n",
       "      <td>0</td>\n",
       "      <td>3</td>\n",
       "      <td>35.0</td>\n",
       "      <td>0</td>\n",
       "      <td>0</td>\n",
       "      <td>8.0500</td>\n",
       "      <td>0</td>\n",
       "      <td>1</td>\n",
       "      <td>0</td>\n",
       "      <td>1</td>\n",
       "    </tr>\n",
       "  </tbody>\n",
       "</table>\n",
       "</div>"
      ],
      "text/plain": [
       "             Survived  Pclass   Age  SibSp  Parch     Fare  youngin  male  Q  \\\n",
       "PassengerId                                                                    \n",
       "1                   0       3  22.0      1      0   7.2500        0     1  0   \n",
       "2                   1       1  38.0      1      0  71.2833        0     0  0   \n",
       "3                   1       3  26.0      0      0   7.9250        0     0  0   \n",
       "4                   1       1  35.0      1      0  53.1000        0     0  0   \n",
       "5                   0       3  35.0      0      0   8.0500        0     1  0   \n",
       "\n",
       "             S  \n",
       "PassengerId     \n",
       "1            1  \n",
       "2            0  \n",
       "3            1  \n",
       "4            1  \n",
       "5            1  "
      ]
     },
<<<<<<< HEAD
     "execution_count": 2,
=======
     "execution_count": 16,
>>>>>>> ab874bf32bf6a963f31c7251004b743164ff84bb
     "metadata": {},
     "output_type": "execute_result"
    }
   ],
   "source": [
    "# Read in data and split data to be used in the models\n",
    "titanic = pd.read_csv('cleaned_titanic.csv', index_col='PassengerId')\n",
    "\n",
    "titanic.head()"
   ]
  },
  {
   "cell_type": "code",
<<<<<<< HEAD
   "execution_count": 3,
=======
   "execution_count": 17,
>>>>>>> ab874bf32bf6a963f31c7251004b743164ff84bb
   "metadata": {},
   "outputs": [],
   "source": [
    "# Create matrix of features\n",
    "X = titanic.drop('Survived', axis = 1) # grabs everything else but 'Survived'\n",
    "\n",
    "# Create target variable\n",
    "y = titanic['Survived'] # y is the column we're trying to predict\n",
    "\n",
    "# Create a list of the features being used in the \n",
    "feature_cols = X.columns"
   ]
  },
  {
   "cell_type": "markdown",
   "metadata": {},
   "source": [
    "## Handling Class Imbalance"
   ]
  },
  {
   "cell_type": "markdown",
   "metadata": {},
   "source": [
    "How do we know we have a class imbance problem???  We need to look at the target variable to see  if we have \"even\" groups."
   ]
  },
  {
   "cell_type": "markdown",
   "metadata": {},
   "source": [
    "### Visualizing Class Imbalance"
   ]
  },
  {
   "cell_type": "code",
<<<<<<< HEAD
   "execution_count": 4,
=======
   "execution_count": 18,
>>>>>>> ab874bf32bf6a963f31c7251004b743164ff84bb
   "metadata": {},
   "outputs": [
    {
     "data": {
<<<<<<< HEAD
      "image/png": "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\n",
=======
      "image/png": "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\n",
>>>>>>> ab874bf32bf6a963f31c7251004b743164ff84bb
      "text/plain": [
       "<Figure size 720x360 with 1 Axes>"
      ]
     },
     "metadata": {},
     "output_type": "display_data"
    }
   ],
   "source": [
    "import matplotlib.pyplot as plt\n",
    "import seaborn as sns\n",
    "%matplotlib inline\n",
    "\n",
    "sns.set_style('darkgrid')\n",
    "plt.figure(figsize=(10, 5))\n",
    "sns.countplot(y, alpha=.80, color='blue')\n",
    "plt.title('Survivors vs Non-Survivors')\n",
    "plt.ylabel('# Passengers')\n",
    "plt.show()"
   ]
  },
  {
   "cell_type": "markdown",
   "metadata": {},
   "source": [
    "Based on the above bar chart do we have the the same number of survivors vs. non-survivors?  What will happen if we run a model with this data?"
   ]
  },
  {
   "cell_type": "markdown",
   "metadata": {},
   "source": [
    "### Run a Dummy Classifier for Baseline Model"
   ]
  },
  {
   "cell_type": "markdown",
   "metadata": {},
   "source": [
    "What is a baseline model?  Why do we use it?"
   ]
  },
  {
   "cell_type": "code",
<<<<<<< HEAD
   "execution_count": 5,
=======
   "execution_count": 19,
>>>>>>> ab874bf32bf6a963f31c7251004b743164ff84bb
   "metadata": {},
   "outputs": [
    {
     "name": "stdout",
     "output_type": "stream",
     "text": [
      "Test Accuracy score:  0.6547085201793722\n",
      "Test F1 score:  0.0\n"
     ]
    },
    {
     "name": "stderr",
     "output_type": "stream",
     "text": [
<<<<<<< HEAD
      "/Users/yl/anaconda3/lib/python3.7/site-packages/sklearn/metrics/classification.py:1437: UndefinedMetricWarning: F-score is ill-defined and being set to 0.0 due to no predicted samples.\n",
=======
      "//anaconda3/lib/python3.7/site-packages/sklearn/metrics/classification.py:1437: UndefinedMetricWarning: F-score is ill-defined and being set to 0.0 due to no predicted samples.\n",
>>>>>>> ab874bf32bf6a963f31c7251004b743164ff84bb
      "  'precision', 'predicted', average, warn_for)\n"
     ]
    },
    {
     "data": {
<<<<<<< HEAD
      "image/png": "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\n",
=======
      "image/png": "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\n",
>>>>>>> ab874bf32bf6a963f31c7251004b743164ff84bb
      "text/plain": [
       "<Figure size 576x396 with 1 Axes>"
      ]
     },
     "metadata": {},
     "output_type": "display_data"
    },
    {
     "data": {
      "text/plain": [
<<<<<<< HEAD
       "<matplotlib.axes._subplots.AxesSubplot at 0x126482710>"
      ]
     },
     "execution_count": 5,
=======
       "<matplotlib.axes._subplots.AxesSubplot at 0x1c220959b0>"
      ]
     },
     "execution_count": 19,
>>>>>>> ab874bf32bf6a963f31c7251004b743164ff84bb
     "metadata": {},
     "output_type": "execute_result"
    }
   ],
   "source": [
    "from sklearn.model_selection import train_test_split\n",
    "from sklearn.dummy import DummyClassifier\n",
    "from sklearn.metrics import accuracy_score, f1_score, confusion_matrix\n",
    "\n",
    "# setting up testing and training sets\n",
    "X_train, X_test, y_train, y_test = train_test_split(X, y, test_size=0.25, random_state=23)\n",
    "\n",
    "# DummyClassifier to predict only target 0\n",
    "dummy = DummyClassifier(strategy='most_frequent', random_state=13).fit(X_train, y_train)\n",
    "dummy_pred = dummy.predict(X_test)\n",
    "\n",
    "\n",
    "# checking accuracy\n",
    "print('Test Accuracy score: ', accuracy_score(y_test, dummy_pred))\n",
    "\n",
    "\n",
    "# checking accuracy\n",
    "print('Test F1 score: ', f1_score(y_test, dummy_pred))\n",
    "\n",
    "#checking confusion matrix\n",
    "from yellowbrick.classifier import ConfusionMatrix\n",
    "# The ConfusionMatrix visualizer taxes a model\n",
    "cm = ConfusionMatrix(dummy, classes=[0,1])\n",
    "\n",
    "# Fit fits the passed model. This is unnecessary if you pass the visualizer a pre-fitted model\n",
    "cm.fit(X_train, y_train)\n",
    "\n",
    "# To create the ConfusionMatrix, we need some test data. Score runs predict() on the data\n",
    "# and then creates the confusion_matrix from scikit-learn.\n",
    "cm.score(X_test, y_test)\n",
    "\n",
    "# How did we do?\n",
    "cm.poof()\n"
   ]
  },
  {
   "cell_type": "markdown",
   "metadata": {},
   "source": [
    "## Run a classification model with class imbalance\n",
    "\n",
    "For the purpose of this example we are using a Logistic Regression classification mode but this will apply to other classification models. "
   ]
  },
  {
   "cell_type": "code",
<<<<<<< HEAD
   "execution_count": 6,
=======
   "execution_count": 20,
>>>>>>> ab874bf32bf6a963f31c7251004b743164ff84bb
   "metadata": {},
   "outputs": [
    {
     "name": "stdout",
     "output_type": "stream",
     "text": [
      "Test Accuracy score:  0.7847533632286996\n",
      "Test F1 score:  0.6619718309859155\n"
     ]
    },
    {
     "data": {
<<<<<<< HEAD
      "image/png": "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\n",
=======
      "image/png": "iVBORw0KGgoAAAANSUhEUgAAAegAAAFjCAYAAAD2J5gXAAAABHNCSVQICAgIfAhkiAAAAAlwSFlzAAALEgAACxIB0t1+/AAAADh0RVh0U29mdHdhcmUAbWF0cGxvdGxpYiB2ZXJzaW9uMy4xLjAsIGh0dHA6Ly9tYXRwbG90bGliLm9yZy+17YcXAAAgAElEQVR4nO3de3zP9f//8ft75zGHhpAQhczSEGIO2Xw+OW0O5ZTTIintS4lMYcsQwidEic/HT7M55HxICzkr1EexzKHkFFZZThs7vV+/Pz6f3h+aNZX33s/sdr1culz2fr3e79frse192c3r9X6939ksy7IEAACM4ubqAQAAQG4EGgAAAxFoAAAMRKABADAQgQYAwEAEGgAAAxFouNzp06dVp06d27a9TZs2aezYsb95ny1btmjatGm3fP8ZM2bo0UcfVfv27dW+fXuFh4crJCREb7zxhkx9p2L//v31zTff3LbtpaSkKCoqSmFhYQoPD1fnzp21cePGP7XN5ORktWzZUp06ddLp06d/9+OnTZumlStX/qkZfrF7927VqFFDw4cPz7WuV69et/Qcvf559Wu38jwDrufh6gGA2y00NFShoaG/eZ8DBw7o4sWLt3x/SWrTpo1Gjx7tuH3x4kWFh4erSZMmatq06Z8b2gnmzJlz27aVmpqqbt26afDgwXrjjTdks9l06NAhPf300/L19VVwcPAf2u6mTZvUsGFDjRs37g89fvDgwX/ocXkpU6aMNm/erKtXr8rX11eS9P333+u77767pcdf/7z6tVt9ngG/INAw2uXLl/X666/r0KFDstlsatq0qYYMGSIPDw9t3bpVkydPlpubm2rWrKldu3YpISFBe/bsUWJiombPnq2PP/5Y77zzjmw2m9zd3fXKK6/Iy8tLixYtUk5OjooVK6bKlSs77v/jjz8qOjpax44dk5ubm7p166bevXvfdLaffvpJ165dU4kSJSRJ3377rcaNG6cLFy4oJydHvXr10pNPPilJeu+997R06VIVLVpUjzzyiDZt2qRPPvlEUVFRunDhgk6dOqXHHntMgwcP1uTJk7V3717l5OQoICBAI0eOlJ+fnxISErRo0SJ5enrK29tbY8aM0QMPPJDn8pCQEE2bNk0PPfSQFi9erLi4OLm5ual06dIaNWqUqlSpoqioKPn5+enw4cM6d+6catSooYkTJ6po0aI3fK8JCQmqW7euOnTo4Fj24IMPavr06SpevLgk6fPPP9ekSZN09epVeXp66sUXX1SzZs20fPlybdiwQW5ubjpx4oR8fHw0ceJEff3111q4cKFycnJ07do1BQcHO34PkrR8+XLH7c8//1wTJkyQ3W6XJA0YMECPP/64oqKiVK1aNfXr1+937//+++/P9TstWbKkKlasqI0bNyosLEyStHLlSoWFhWnRokWSpPT0dMXExOjEiRO6cOGCihYtqsmTJ+vy5cu5nldLly7V1atX5efnp44dOyoxMVHTpk3TE088oaeeeko9evTQBx98oPfff19Llixx/KMAkCRZgIudOnXKCgoKuum6V155xYqNjbXsdruVkZFh9e3b15o9e7aVmppqNWjQwEpOTrYsy7KWL19uVa9e3Tp16pS1bNky69lnn7Usy7JCQ0Otffv2WZZlWdu3b7dmzJhhWZZlTZ8+3Xr99dcty7JuuP8LL7xgTZw40bIsy7p06ZLVtm1b6/jx49b06dOthg0bWuHh4dbf/vY3q0GDBlZERIS1fv16y7IsKysry2rTpo2VlJTkeGzr1q2tffv2Wdu2bbMef/xx6+LFi5bdbrdGjBhhtWjRwrIsyxo+fLjVp08fx/c7Y8YMa8KECZbdbrcsy7KmTJliRUdHW9nZ2VatWrWslJQUy7Isa8WKFdaiRYvyXG5ZltWiRQtr//791q5du6yWLVta58+fd3y/rVu3tux2uzV8+HCra9euVkZGhpWZmWl16NDBWrp0aa7fw4ABA6wFCxbk+TtMTU21GjVqZH355ZeWZVnWkSNHrAYNGlgnT560li1bZtWrV886e/asZVmWNWbMGOuVV175zd/Dr2/37t3bWrt2rWVZlpWcnGzFxMQ4fn5z5879w/u/3meffWa1bdvW+uijj6x+/fo5lrdt29ZKSkpyPEfXr19vxcbGOtaPGjXKGjNmzE2/n/r161uXL1/O9f0cOnTIatCggbVlyxarcePG1rfffpvnzxaFF0fQMNq2bdu0cOFC2Ww2eXl5qVu3bpo/f76qVKmi+++/Xw8++KAkqWPHjjd9fa9t27aKjIxU8+bNFRwcrP79+//m/nbt2qVhw4ZJkooVK6a1a9c61v1yijszM1OxsbH65ptvFBISIkk6fvy4Tp48qVdffdVx/2vXrungwYM6duyYWrVq5TjS7NGjhz777DPH/erVq+f4esuWLbp8+bJ27dolScrKylKpUqXk7u6uVq1aqVu3bnrsscfUpEkTNW/ePM/l19u+fbvatGkjf39/SVKnTp00btw4x2u+TZs2lZeXlySpevXqNz1Fa7PZfvO19v3796tSpUp6+OGHJUnVqlVT3bp1tWfPHtlsNtWqVUvlypWTJAUEBGjDhg15/xJuonXr1hozZow++eQTNW7cWEOGDHHa/lu0aKGYmBj99NNPOnHihKpWreo4SyJJrVq1UsWKFRUXF6cTJ05oz549eb4+XaNGDfn5+d10eWRkpAYMGKAJEyaoatWqv+vngcKBi8RgNLvdLpvNdsPt7Oxsubu75wqGm1vup/NLL72khIQEBQYGavny5erRo8dv7s/Dw+OG/Z06dUpXrly54T5eXl4aNWqUrly5okmTJkmS47TmqlWrHP8tWbJETzzxhDw8PG6Y1d3d/YbtFSlS5Ibv79VXX3Vs44MPPnBcdDR58mS9++67qlSpkt577z1HpPJafv02f82yLGVnZ0uSfHx8HMvzCnFQUJC+/PLLXMsXLVqkefPmKScn54af2x/Zx6+XZ2VlOb7u1q2bVq9ereDgYO3YsUPh4eHKyMhwrL8d+/+Fl5eX/v73v2vdunVauXKlOnbseMP6hIQEvfbaa/Lx8VFYWJjatWuX5/au/93+2tGjR1W6dGl99dVXed4HhRuBhtGaNGmiBQsWyLIsZWZmasmSJWrcuLHq1q2r48eP69ChQ5KkxMREXbp06YY/0tnZ2QoJCdHVq1fVvXt3RUdH6/Dhw8rMzJS7u7vjj/f1GjVqpGXLlkn6z+vfffr00fHjx3Pdz8vLS9HR0UpISNDBgwdVpUoV+fj4aNWqVZKks2fPql27dkpKSlLz5s318ccf6/Lly5KkpUuX/ub3Gx8fr8zMTNntdo0aNUpTp05VamqqmjdvrpIlSyoiIkIvvviiDhw4kOfy6zVt2lQffvihUlNTJUnLli1TyZIlVbly5Vv+PXTt2lV79uzR6tWrHTFKSkrS9OnTVb16dQUFBenYsWPav3+/pP/EZ+/evWrQoMEt78Pf319Hjx5VRkaGsrKylJiY6FjXrVs3JScnq1OnToqNjdWlS5f0448/Otbfjv1fr0OHDlqxYoX27t2b6wLAHTt2qGPHjurcubOqVKmiTz75RDk5OZKU5/Pq1z7++GPt3r1bq1ev1s6dO//01fC4M3GKG0ZIT0/PdZpw0aJFGjlypMaOHauwsDBlZWWpadOmeu655+Tl5aWpU6dq+PDhcnNzU2BgoDw8PG64yMbDw0Ovvvqqhg4d6jgyHj9+vLy8vPToo49q6NChio2NVa1atRyPGT16tGJiYhQWFibLsjRgwAAFBgZq8+bNuWZ+5JFHFBYWpjFjxmjhwoWaNWuWxo0bp7lz5yo7O1uDBw92nL7u0qWLunbtKh8fH1WrVi3Pi4EGDhyoiRMnqmPHjsrJyVHNmjUdF3I9//zzioiIkI+Pj9zd3TV27Fj5+/vfdPn1goODFRERoT59+shut8vf31+zZ8++6RmHvJQsWVJxcXF68803HY/19fXVuHHjHFdwT5s2TbGxsbp27ZpsNpveeOMNValSRfv27bulfQQHB6t+/fpq3bq1ypQpo4YNG+rw4cOSpKFDh2r8+PF66623ZLPZFBkZqXvvvdfxWH9//z+9/+vVqVNHV69eVUhIiDw8bvwz2bdvX40ePdrxD62goCAdOXJEkvJ8Xl3v7Nmzio6O1rvvvit/f39NmDBBL7zwggIDAx2n4QFJslm/da4HMNSVK1c0a9Ys/d///Z98fX319ddfa8CAAdq+fXuuU52uduDAAe3bt89xNfi8efP01Vdf6a233nLxZABMxhE0/pL8/Pzk6empJ598Uh4eHvLw8HAcXZmmSpUqmjNnjpYsWSKbzaby5csrNjbW1WMBMBxH0AAAGIiLxAAAMBCBBgDAQMa8Bm2325WWliZPT08jX0cEAOB2sixLWVlZKlq06E3fVWFMoNPS0hxvVQAAoLCoXr26ihUrlmu5MYH29PSUJO3sF6NrP6S6eBqgcBn83SfShWWuHgMoVDKzPXTk3P2O/v2aMYH+5bT2tR9SdfXsTy6eBihcvL29Jc+s/O8I4LbL62VdLhIDAMBABBoAAAMRaAAADESgAQAwEIEGAMBABBoAAAMRaAAADESgAQAwEIEGAMBABBoAAAMRaAAADESgAQAwEIEGAMBABBoAAAMRaAAADESgAQAwEIEGAMBABBoAAAMRaAAADESgAQAwEIEGAMBABBoAAAMRaAAADESgAQAwEIEGAMBABBoAAAMRaAAADESgAQAwEIEGAMBABBoAAAMRaAAADESgAQAwEIEGAMBABBoAAAMRaAAADESgAQAwEIEGAMBABBoAAAMRaAAADESgAQAwEIEGAMBABBoAAAMRaAAADESgAQAwEIEGAMBABBoAAAMRaAAADESgAQAwEIEGAMBABBoAAAMRaAAADESgAQAwEIEGAMBABBoAAAMRaAAADESgAQAwEIEGAMBABBoAAAMRaAAADESgAQAwEIEGAMBABBoAAAMRaAAADESgAQAwEIEGAMBABBoAAAMRaAAADOTh6gHw19L+/03QDweO6NMp/5KHj7fazIxWhQYPSTabvt+9Xx++8Lqyr2XIr/zdaj9vvPzKlZHNzaadE+fqQPxqV48P/OVZlqWIF+bqoYB7NTSytXJy7Ip8JU5bdx2WJLX5W229+XpX2Ww2F0+KP8upR9BbtmxRWFiYHn/8cQ0aNEhXrlxx5u7gRKUfrKrem+Yr4MnHHcuavva83Dzc9U7tcL1bO1wevt5qMmKAJCl0/Ev6fvd+zQ5qr/hWz6jtOzEqWra0q8YH7gjJh88otMMkLV2z17EsbvFOHf7mnA7sGKuvto3R1p2HtXT13t/YCv4qnBbo1NRUjRgxQjNmzFBiYqIqVqyoyZMnO2t3cLL6L/TQv+d+oIMffORYdmLbXm0b+45kWbLsdp3bl6wSle+RJNnc3eVTopgkybOIr+zZ2bLsdpfMDtwpZv5zk57p1Uydw+s7luXY7UpLz1BGRpYyMrKVmZUtH29PF06J28Vpgd6xY4ceeugh3XfffZKk7t27a82aNbIsy1m7hBOt/79YJS1ce8OyYxt2KvXocUlSiUr36NEX+zgCvmnEFFUPD9GQ77dr4MF12hI9Q+k/phb02MAd5e1JvfTUk41uWBbRvanuKllEFQJfUvmAF/VAlbsV1qqOiybE7eS0QJ87d07lypVz3C5XrpyuXLmitLQ0Z+0SLlK+bi09vT1ee95eoKPrtkiSOsVP1q5JczW1QlPNCmir4OH9dU/9h1w7KHAHen3SSpUpVUwph6brdNJUpV5I05SZ6109Fm4DpwXabrff9CIFNzcuHL+T1OraRr02/Esbo6ZoxxuzJUm+pe5SpSb19MWcJZKk1G9O6NiGnarcrP5vbQrAH7B87Rfq26OZvLw8VKJ4EfXpGqzNOw65eizcBk6rZfny5fXDDz84bqekpKhEiRIqUqSIs3aJAla9XQu1nj5ScX/vd8Pp76vnf9al0+ccF5T5lrpLlZvV1/e7v3LVqMAdq27tylqyco8kKSsrW6s/+lKP1rvfxVPhdnBaoJs0aaKvvvpKx48flyQtWrRIoaGhztodXOBvk4dLNpvC547VgH0rNWDfSrV5e7QkaVH486o/8Ck9n7RWfTbP1443Zuvkji9cPDFw5/nHuKd04VK6HmwYpaDmo3XvPXfplUFtXD0WbgOb5cSrtrZu3aopU6YoKytLlSpV0sSJE1WyZMmb3jcjI0NJSUnaFDZIV8/+5KyRANxEtHVYSp3v6jGAQiUjy1NJp2soMDBQ3t7eudY79YNKmjdvrubNmztzFwAA3JG4YgsAAAMRaAAADESgAQAwEIEGAMBABBoAAAMRaAAADESgAQAwEIEGAMBABBoAAAMRaAAADESgAQAwEIEGAMBABBoAAAMRaAAADESgAQAwEIEGAMBABBoAAAMRaAAADESgAQAwEIEGAMBABBoAAAMRaAAADESgAQAwEIEGAMBABBoAAAMRaAAADESgAQAwEIEGAMBABBoAAAMRaAAADESgAQAwEIEGAMBABBoAAAMRaAAADESgAQAwEIEGAMBABBoAAAMRaAAADESgAQAwEIEGAMBABBoAAAMRaAAADESgAQAwEIEGAMBA+Qb6woUL2rVrlyRp9uzZGjRokE6ePOn0wQAAKMzyDfTLL7+s5ORk7dq1Sx999JFCQkL02muvFcRsAAAUWvkG+uLFi+rXr582bdqkjh07qkOHDkpLSyuI2QAAKLTyDbTdbldSUpI2btyoFi1aKDk5WTk5OQUxGwAAhZZHfncYNmyYJk2apL59+6pixYrq0qWLRowYURCzAQBQaOUb6EaNGqlevXry8vLSiRMnNHDgQDVo0KAgZgMAoNDK9xT3zJkzFRUVpTNnzqhHjx6aP3++xo8fXxCzAQBQaOUb6E2bNmn8+PFau3atwsPDNW/ePP373/8uiNkAACi0bukiMR8fH23evFnNmzeX3W7X1atXC2I2AAAKrXwD3ahRI7Vr105ZWVmqX7++evbsqRYtWhTEbAAAFFr5XiQ2fPhw9erVS2XLlpWbm5tGjRqlmjVrFsRsAAAUWvkG+vjx41qwYIHS09NlWZbsdrtOnz6t+Pj4gpgPAIBCKd9T3EOGDFHx4sWVnJysmjVr6syZM6pWrVpBzAYAQKGV7xF0VlaWBg0apOzsbAUEBKhLly564oknCmI2AAAKrXyPoH19fZWZman77rtPX3/9tXx8fApiLgAACrV8Ax0eHq7nnntOjz32mBYsWKBnnnlGZcuWLYjZAAAotPI9xd2zZ0916NBBfn5+iouL04EDB9SkSZOCmA0AgEIrz0C//fbbeT7o8OHDioyMdMpAAADgFk5xAwCAgpfnEfQvR8g5OTlyd3eXJKWmpsrf379gJgMAoBDL8wj6559/Vs+ePZWYmOhYFh0drR49eujChQsFMhwAAIVVnoEeN26cmjZtqlatWjmWTZ8+XY0aNeJ/NwkAgJPlGegjR45owIABcnP7311sNpsiIyN18ODBAhkOAIDCKs9A22y2vB/kxrVlAAA4U56lveeee7R169Zcy7dt28aFYgAAOFmeV3EPGzZMffr0UaNGjRQQECBvb28dOHBA27Zt05w5c5w20LwSqUq59qPTtg8gt2hJ8u/j6jGAwiUjQzqdlOfqPANdtWpVLVu2TAsXLtRnn30mm82mwMBArVy5UqVLl3bKrJK0b0U3ebulO237AHLz9/fX+fnBrh4DKFQs95JS2RfzXP+bH/V59913a/Dgwbd9KAAA8Nu42gsAAAMRaAAADHRLgU5PT9ehQ4dkWZbS03l9GAAAZ8s30J9++qnat2+vgQMH6qefflKLFi20Y8eOgpgNAIBCK99AT506VQkJCSpevLjKlCmj+Ph4TZo0qSBmAwCg0Mo30Ha7XWXKlHHcfuCBB5w6EAAAyOdtVpJUrlw5bd68WTabTZcuXVJ8fLzuueeegpgNAIBCK98j6DFjxmjNmjU6e/asWrZsqeTkZI0ZM6YgZgMAoNDK9wi6VKlSmjp1akHMAgAA/ivfQIeEhNz0/2y1adMmpwwEAABuIdBxcXGOr7Ozs7VhwwZlZmY6dSgAAAq7fF+DrlChguO/ypUr65lnntHGjRsLYjYAAAqtfI+g9+7d6/jasiwdPXpUGRkZTh0KAIDCLt9AT58+3fG1zWbTXXfdpQkTJjh1KAAACrt8A92mTRt17969IGYBAAD/le9r0PHx8QUxBwAAuM4tfZJY79699fDDD8vb29uxPDIy0qmDAQBQmOUb6KCgoIKYAwAAXCfPQK9YsUIdO3bkSBkAABfI8zXo999/vyDnAAAA18n3IjEAAFDw8jzFffToUYWGhuZablmWbDYbn8UNAIAT5RnoypUr67333ivIWQAAwH/lGWhPT09VqFChIGcBAAD/ledr0HXr1i3IOQAAwHXyDPTo0aMLcg4AAHAdruIGAMBABBoAAAMRaAAADESgAQAwEIEGAMBABBoAAAMRaAAADESgAQAwEIEGAMBABBoAAAMRaAAADESgAQAwEIEGAMBABBoAAAMRaAAADESgAQAwEIEGAMBABBoAAAMRaAAADESgAQAwEIEGAMBABBoAAAMRaAAADESgAQAwEIEGAMBABBoAAAMRaAAADESgAQAwEIEGAMBABBoAAAMRaAAADESgAQAwEIEGAMBABBoAAAMRaAAADESgAQAwEIEGAMBABBoAAAMRaAAADESgAQAwEIEGAMBAHq4eAH89by/4t95duE82m033Vyyp98Y+rlIlffXyhM1K3P6dsnPserlvfT3XvY6rRwXuSCs/O6fe/9inS4tba9B7Sdr+dapj3ffnr6n8Xd76akZzF06I28GpgbYsS1FRUapevbr69evnzF2hgHyRdE5T/rVHX656WiWKeWvoxM0aNW2HHq5xt44e/1kH1vbV5bRMNe66QHVrlVOD2uVdPTJwRzl65oqG/eugLOs/t6c/G+hYdzwlXc1G7NL8l4JcNB1uJ6ed4v7222/Vp08fJSYmOmsXcIF6geV0JLG/ShTz1rWMbJ1JuaxSJX21cuMRRXQKlIeHm+4q4aOubR/UgtVfu3pc4I6SnpGjXlO/1JR+ATdd/+zb+/VS+6oKqlqigCeDMzgt0PHx8ercubNatWrlrF3ARTw93bVy41FVbPaOtu09rac7BerU2cuqWL644z73lium789dduGUwJ3nuZn79ezjlVT7vuK51q3/4ged/OmqBrWr4oLJ4AxOO8U9evRoSdLOnTudtQu4UIeW1dShZTXNWfKVWvX7QB4ebrLZ/rfesiR3N65BBG6XWR8el4e7TX3/VknHU9JzrX9r1TFFPfmA3N1tN3k0/or4C4rf5ZsTP2vH56cdt/s+8ZBOnLmkCnf76cwPVxzLz/xwRRXK+bliROCONH/TKe09elF1Bm9T2zF7dDUzR3UGb9OZ89f048UM7T5yQZ2DuebjTkKg8buc/fGKug9ZrZ9S//Mv+Pg1BxVYrbQ6/r265i07oOxsuy5cuqbF65LVoWU1F08L3Dl2T2mqA283175pzbRudAP5erlr37RmuqeUj3Ym/6z61UqqqA9vzLmT8NvE79L0kYp69blGatF7kTzc3XTP3X5aMbOjKpYvrm9PXlBQ+3nKzMrRs12D1LxBJVePCxQKR8+kqfLdvq4eA7cZgcbv9vxTdfT8U7nf4/zWa6EumAYofO4rW0SXl7R23B7W6X4XTgNncXqgJ0yY4OxdAABwx+E1aAAADESgAQAwEIEGAMBABBoAAAMRaAAADESgAQAwEIEGAMBABBoAAAMRaAAADESgAQAwEIEGAMBABBoAAAMRaAAADESgAQAwEIEGAMBABBoAAAMRaAAADESgAQAwEIEGAMBABBoAAAMRaAAADESgAQAwEIEGAMBABBoAAAMRaAAADESgAQAwEIEGAMBABBoAAAMRaAAADESgAQAwEIEGAMBABBoAAAMRaAAADESgAQAwEIEGAMBABBoAAAMRaAAADESgAQAwEIEGAMBABBoAAAMRaAAADESgAQAwEIEGAMBABBoAAAMRaAAADESgAQAwEIEGAMBABBoAAAMRaAAADESgAQAwEIEGAMBABBoAAAMRaAAADESgAQAwEIEGAMBABBoAAAMRaAAADESgAQAwEIEGAMBABBoAAAMRaAAADESgAQAwEIEGAMBABBoAAAMRaAAADESgAQAwEIEGAMBABBoAAAMRaAAADOTh6gF+YVmWJCnT7uviSYDCp2zZsspwL+nqMYBCJdOtuKT/9e/XbFZeawrY5cuXdeTIEVePAQBAgapevbqKFSuWa7kxgbbb7UpLS5Onp6dsNpurxwEAwKksy1JWVpaKFi0qN7fcrzgbE2gAAPA/XCQGAICBCDQAAAYi0AAAGIhAAwBgIAINAICBCDT+lLS0NF27ds3VYwDAHceYTxLDX0daWpomT56sNWvWKC0tTZJUvHhxhYaGKioqSsWLF3fxhADw18f7oPG7vfjii7r33nvVvXt3lStXTpJ07tw5LV68WEeOHNG7777r4gkB4K+PQON3a926tdavX3/TdW3bttW6desKeCKg8Jg3b95vrn/66acLaBI4G6e48bt5enrq1KlTqlix4g3LT548KQ8PnlKAMx0+fFiJiYlq1aqVq0eBk/HXFL/bkCFD1LVrV9WuXVvlypWTzWZTSkqK9u/fr/Hjx7t6POCONmHCBJ09e1ZNmjRR27ZtXT0OnIhT3PhDUlNTtXPnTp09e1aWZal8+fJq0qSJ/P39XT0acMf79ttvlZCQoFGjRrl6FDgRgQYAwEC8DxoAAAMRaAAADESggQJy+vRpBQYGqn379urQoYPatm2rp59+WufOnfvD21y+fLmioqIkSf3791dKSkqe950+fbo+//zz37X9GjVq3HT5sWPH9NxzzyksLExhYWF6+eWXlZqaKkmaMWOGZsyY8bv2AyA3Ag0UoLvvvlurVq3SypUrtW7dOtWoUUOTJk26LdueM2eOypYtm+f6vXv3Kicn50/vJyUlRb1791aXLl20Zs0arV69WtWqVVNkZOSf3jaA/+FtVoALNWzYUFOnTpUkhYSEqHbt2kpOTlZCQoK2b12F9dcAAAUBSURBVN+u+fPny263q1atWoqOjpa3t7dWrlypd955R35+fqpQoYKKFCniePz777+vMmXK6PXXX9cXX3whT09PDRw4UJmZmUpKStLIkSP19ttvy8fHRzExMbpw4YJ8fHw0atQoBQQE6PTp0xo2bJjS09P18MMP33TmhQsX6tFHH1VISIgkyWazqX///rr33nuVnZ19w30XLFigVatW6erVq/L09NSUKVNUtWpVTZw4UTt37pSbm5tatmypyMhIffrpp3rzzTclSSVKlNCUKVN4VwAKNY6gARfJyspSYmKigoKCHMuaNWumxMREpaamasmSJVq0aJFWrVqlUqVK6Z///KdSUlI0efJkxcfHa/HixY7PQr9eXFyc0tPTtX79es2bN08zZ85UmzZtFBgYqLFjx6pGjRoaPny4hg0bphUrVig2NlYvvfSSJCk2NladOnXSqlWrVLdu3ZvOnZycrFq1at2wzN3dXe3atbvhg2quXLmijRs3Ki4uTmvXrtVjjz2m+Ph4ff/999q2bZtWr16thQsX6ptvvlFGRoZmzZqlmJgYLV++XI0bN9bBgwdvx48Z+MviCBooQD/88IPat28vScrMzFTt2rX18ssvO9b/ctS6e/dunThxQl26dJH0n5gHBARo3759qlOnjkqXLi1JCgsL02effXbDPvbu3asuXbrIzc1NZcqUyfXRq2lpaUpKStKIESMcy9LT0/Xzzz9rz549mjJliiQpPDxcI0eOzPU92Gw2eXl55fu9+vn5acqUKVq3bp2OHz+u7du3q2bNmipbtqy8vb3VrVs3tWjRQkOHDpW3t7dCQ0MVGRmpli1bKjQ0VMHBwfnuA7iTEWigAP3yGnRevL29JUk5OTlq3bq1I5BpaWnKycnRp59+qus/uuBmH63q4eEhm83muH3ixAmVL1/ecdtut8vLy+uGOc6dO6eSJUtKkmP7NptNbm65T7IFBgYqKSnphmV2u12DBg1STEyMY9nZs2fVq1cv9ezZU82aNVPp0qWVnJwsDw8PffDBB9qzZ4+2bdumbt26KS4uThEREWrRooU2b96sN998U/v379fzzz+f588KuNNxihswUMOGDbVhwwadP39elmUpJiZG8+fPV7169fTll18qJSVFdrtdH374Ya7H1q9fXx9++KEsy9L58+fVs2dPZWZmyt3dXTk5OSpWrJjuu+8+R6B37typHj16SJIaN26s1atXS5I+/vhjZWRk5Np+165dtXXrVm3dulXSf4I+a9YsnT9/3nFkL0kHDhxQ5cqVFRERoYceekgbN25UTk6ODh48qJ49e6p+/foaPny47r//fn333Xfq3Lmz0tLSFBERoYiICE5xo9DjCBow0IMPPqjIyEj16dNHdrtdNWvW1LPPPitvb2+NHDlSERER8vX11QMPPJDrsU899ZTGjh2r8PBwSdKoUaPk5+enpk2bKjo6WhMnTtSbb76pmJgYzZ07V56envrHP/4hm82m0aNHa9iwYVq8eLECAwNVtGjRXNsvU6aM5syZo0mTJmny5MnKyclRQECAZs6cecP9goODtXDhQrVp00aWZal+/fo6evSoAgICFBQUpHbt2snX11d169ZVs2bN5Ovrq6ioKHl4eKhIkSIaO3asc364wF8EH/UJAICBOMUNAICBCDQAAAYi0AAAGIhAAwBgIAINAICBCDQAAAYi0AAAGIhAAwBgoP8PH3xPy+7hfLEAAAAASUVORK5CYII=\n",
>>>>>>> ab874bf32bf6a963f31c7251004b743164ff84bb
      "text/plain": [
       "<Figure size 576x396 with 1 Axes>"
      ]
     },
     "metadata": {},
     "output_type": "display_data"
    },
    {
     "data": {
      "text/plain": [
<<<<<<< HEAD
       "<matplotlib.axes._subplots.AxesSubplot at 0x12669cf98>"
      ]
     },
     "execution_count": 6,
=======
       "<matplotlib.axes._subplots.AxesSubplot at 0x1a21648a58>"
      ]
     },
     "execution_count": 20,
>>>>>>> ab874bf32bf6a963f31c7251004b743164ff84bb
     "metadata": {},
     "output_type": "execute_result"
    }
   ],
   "source": [
    "from sklearn.linear_model import LogisticRegression\n",
    "\n",
    "# dt_clf = DecisionTreeClassifier(max_depth=5)\n",
    "lr_clf = LogisticRegression(solver='liblinear', random_state=13)\n",
    "\n",
    "# dt_clf.fit(X_train, y_train)\n",
    "lr_clf.fit(X_train, y_train)\n",
    "\n",
    "# y_pred_test = dt_clf.predict(X_test)\n",
    "y_pred_test = lr_clf.predict(X_test)\n",
    "\n",
    "\n",
    "\n",
    "\n",
    "# checking accuracy\n",
    "print('Test Accuracy score: ', accuracy_score(y_test, y_pred_test))\n",
    "\n",
    "\n",
    "# checking accuracy\n",
    "print('Test F1 score: ', f1_score(y_test, y_pred_test))\n",
    "\n",
    "#checking confusion matrix\n",
    "from yellowbrick.classifier import ConfusionMatrix\n",
    "# The ConfusionMatrix visualizer taxes a model\n",
    "cm = ConfusionMatrix(lr_clf, classes=[0,1])\n",
    "\n",
    "# Fit fits the passed model. This is unnecessary if you pass the visualizer a pre-fitted model\n",
    "cm.fit(X_train, y_train)\n",
    "\n",
    "# To create the ConfusionMatrix, we need some test data. Score runs predict() on the data\n",
    "# and then creates the confusion_matrix from scikit-learn.\n",
    "cm.score(X_test, y_test)\n",
    "\n",
    "# How did we do?\n",
    "cm.poof()"
   ]
  },
  {
   "cell_type": "markdown",
   "metadata": {},
   "source": [
    "## Prepping data for handling class imbalances\n",
    "\n",
    "We are goign to change the training dataset to which we fit our model, so we want to bring our training data back together before we make those changes. "
   ]
  },
  {
   "cell_type": "code",
<<<<<<< HEAD
   "execution_count": 7,
=======
   "execution_count": 21,
>>>>>>> ab874bf32bf6a963f31c7251004b743164ff84bb
   "metadata": {},
   "outputs": [],
   "source": [
    "# concatenate our training data back together\n",
    "training  = pd.concat([X_train, y_train], axis=1)"
   ]
  },
  {
   "cell_type": "code",
<<<<<<< HEAD
   "execution_count": 8,
=======
   "execution_count": 22,
>>>>>>> ab874bf32bf6a963f31c7251004b743164ff84bb
   "metadata": {},
   "outputs": [],
   "source": [
    "# separate minority and majority classes\n",
    "deceased = training[training.Survived==0]\n",
    "survived = training[training.Survived==1]"
   ]
  },
  {
   "cell_type": "code",
<<<<<<< HEAD
   "execution_count": 9,
=======
   "execution_count": 23,
>>>>>>> ab874bf32bf6a963f31c7251004b743164ff84bb
   "metadata": {},
   "outputs": [
    {
     "name": "stdout",
     "output_type": "stream",
     "text": [
      "deceased count: 403\n",
      "survived count: 263\n"
     ]
    }
   ],
   "source": [
    "print('deceased count: '+ str(len(deceased)))\n",
    "print('survived count: '+ str(len(survived)))"
   ]
  },
  {
   "cell_type": "code",
<<<<<<< HEAD
   "execution_count": 10,
=======
   "execution_count": 24,
>>>>>>> ab874bf32bf6a963f31c7251004b743164ff84bb
   "metadata": {},
   "outputs": [],
   "source": [
    "from sklearn.utils import resample\n"
   ]
  },
  {
   "cell_type": "markdown",
   "metadata": {},
   "source": [
    "![alt text](class_imb_images/resampling.png)"
   ]
  },
  {
   "cell_type": "markdown",
   "metadata": {},
   "source": [
    "## Upsampling"
   ]
  },
  {
   "cell_type": "code",
<<<<<<< HEAD
   "execution_count": 11,
=======
   "execution_count": 25,
>>>>>>> ab874bf32bf6a963f31c7251004b743164ff84bb
   "metadata": {},
   "outputs": [],
   "source": [
    "# upsample minority\n",
    "survived_upsampled = resample(survived,\n",
    "                          replace=True, # sample with replacement\n",
    "                          n_samples=len(deceased), # match number in majority class\n",
    "                          random_state=23) # reproducible results"
   ]
  },
  {
   "cell_type": "code",
<<<<<<< HEAD
   "execution_count": 12,
=======
   "execution_count": 26,
>>>>>>> ab874bf32bf6a963f31c7251004b743164ff84bb
   "metadata": {},
   "outputs": [
    {
     "data": {
      "text/plain": [
       "1    403\n",
       "0    403\n",
       "Name: Survived, dtype: int64"
      ]
     },
<<<<<<< HEAD
     "execution_count": 12,
=======
     "execution_count": 26,
>>>>>>> ab874bf32bf6a963f31c7251004b743164ff84bb
     "metadata": {},
     "output_type": "execute_result"
    }
   ],
   "source": [
    "# combine majority and upsampled minority\n",
    "upsampled = pd.concat([deceased, survived_upsampled])\n",
    "\n",
    "# check new class counts\n",
    "upsampled.Survived.value_counts()"
   ]
  },
  {
   "cell_type": "code",
<<<<<<< HEAD
   "execution_count": 13,
=======
   "execution_count": 27,
>>>>>>> ab874bf32bf6a963f31c7251004b743164ff84bb
   "metadata": {},
   "outputs": [
    {
     "name": "stdout",
     "output_type": "stream",
     "text": [
      "Test Accuracy score:  0.7713004484304933\n",
      "Test F1 score:  0.6577181208053691\n"
     ]
    },
    {
     "data": {
<<<<<<< HEAD
      "image/png": "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\n",
=======
      "image/png": "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\n",
>>>>>>> ab874bf32bf6a963f31c7251004b743164ff84bb
      "text/plain": [
       "<Figure size 576x396 with 1 Axes>"
      ]
     },
     "metadata": {},
     "output_type": "display_data"
    },
    {
     "data": {
      "text/plain": [
<<<<<<< HEAD
       "<matplotlib.axes._subplots.AxesSubplot at 0x1267e7fd0>"
      ]
     },
     "execution_count": 13,
=======
       "<matplotlib.axes._subplots.AxesSubplot at 0x1c223b94e0>"
      ]
     },
     "execution_count": 27,
>>>>>>> ab874bf32bf6a963f31c7251004b743164ff84bb
     "metadata": {},
     "output_type": "execute_result"
    }
   ],
   "source": [
    "# trying logistic regression again with the balanced dataset\n",
    "y_train = upsampled.Survived\n",
    "X_train = upsampled.drop('Survived', axis=1)\n",
    "\n",
    "\n",
    "# upsampled_dt = DecisionTreeClassifier(max_depth=5)\n",
    "upsampled_lr = LogisticRegression(solver='liblinear')\n",
    "\n",
    "\n",
    "# upsampled_dt.fit(X_train, y_train)\n",
    "upsampled_lr.fit(X_train, y_train)\n",
    "\n",
    "\n",
    "# upsampled_pred = upsampled_dt.predict(X_test)\n",
    "upsampled_pred = upsampled_lr.predict(X_test)\n",
    "\n",
    "\n",
    "\n",
    "# checking accuracy\n",
    "print('Test Accuracy score: ', accuracy_score(y_test, upsampled_pred))\n",
    "\n",
    "\n",
    "# checking accuracy\n",
    "print('Test F1 score: ', f1_score(y_test, upsampled_pred))\n",
    "\n",
    "#checking confusion matrix\n",
    "from yellowbrick.classifier import ConfusionMatrix\n",
    "# The ConfusionMatrix visualizer taxes a model\n",
    "cm = ConfusionMatrix(upsampled_lr, classes=[0,1])\n",
    "\n",
    "# Fit fits the passed model. This is unnecessary if you pass the visualizer a pre-fitted model\n",
    "cm.fit(X_train, y_train)\n",
    "\n",
    "# To create the ConfusionMatrix, we need some test data. Score runs predict() on the data\n",
    "# and then creates the confusion_matrix from scikit-learn.\n",
    "cm.score(X_test, y_test)\n",
    "\n",
    "# How did we do?\n",
    "cm.poof()"
   ]
  },
  {
   "cell_type": "markdown",
   "metadata": {},
   "source": [
    "## Downsampling"
   ]
  },
  {
   "cell_type": "code",
<<<<<<< HEAD
   "execution_count": 14,
=======
   "execution_count": 28,
>>>>>>> ab874bf32bf6a963f31c7251004b743164ff84bb
   "metadata": {},
   "outputs": [],
   "source": [
    "\n",
    "# downsample majority\n",
    "survived_downsampled = resample(deceased,\n",
    "                                replace = False, # sample without replacement\n",
    "                                n_samples = len(survived), # match minority n\n",
    "                                random_state = 23) # reproducible results\n",
    "\n",
    "\n"
   ]
  },
  {
   "cell_type": "code",
<<<<<<< HEAD
   "execution_count": 15,
=======
   "execution_count": 29,
>>>>>>> ab874bf32bf6a963f31c7251004b743164ff84bb
   "metadata": {},
   "outputs": [
    {
     "data": {
      "text/plain": [
       "1    263\n",
       "0    263\n",
       "Name: Survived, dtype: int64"
      ]
     },
<<<<<<< HEAD
     "execution_count": 15,
=======
     "execution_count": 29,
>>>>>>> ab874bf32bf6a963f31c7251004b743164ff84bb
     "metadata": {},
     "output_type": "execute_result"
    }
   ],
   "source": [
    "# combine minority and downsampled majority\n",
    "downsampled = pd.concat([survived_downsampled, survived])\n",
    "\n",
    "# checking counts\n",
    "downsampled.Survived.value_counts()"
   ]
  },
  {
   "cell_type": "code",
<<<<<<< HEAD
   "execution_count": 16,
=======
   "execution_count": 30,
>>>>>>> ab874bf32bf6a963f31c7251004b743164ff84bb
   "metadata": {},
   "outputs": [
    {
     "name": "stdout",
     "output_type": "stream",
     "text": [
      "Test Accuracy score:  0.7802690582959642\n",
      "Test F1 score:  0.6711409395973155\n"
     ]
    },
    {
     "data": {
<<<<<<< HEAD
      "image/png": "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\n",
=======
      "image/png": "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\n",
>>>>>>> ab874bf32bf6a963f31c7251004b743164ff84bb
      "text/plain": [
       "<Figure size 576x396 with 1 Axes>"
      ]
     },
     "metadata": {},
     "output_type": "display_data"
    },
    {
     "data": {
      "text/plain": [
<<<<<<< HEAD
       "<matplotlib.axes._subplots.AxesSubplot at 0x1268d3940>"
      ]
     },
     "execution_count": 16,
=======
       "<matplotlib.axes._subplots.AxesSubplot at 0x1c22498da0>"
      ]
     },
     "execution_count": 30,
>>>>>>> ab874bf32bf6a963f31c7251004b743164ff84bb
     "metadata": {},
     "output_type": "execute_result"
    }
   ],
   "source": [
    "# trying logistic regression again with the balanced dataset\n",
    "y_train = downsampled.Survived\n",
    "X_train = downsampled.drop('Survived', axis=1)\n",
    "\n",
    "\n",
    "# downsampled_dt = DecisionTreeClassifier(max_depth=5)\n",
    "downsampled_lr = LogisticRegression(solver='liblinear')\n",
    "\n",
    "\n",
    "# downsampled_dt.fit(X_train, y_train)\n",
    "downsampled_lr.fit(X_train, y_train)\n",
    "\n",
    "\n",
    "# downsampled_pred = upsampled_dt.predict(X_test)\n",
    "downsampled_pred = downsampled_lr.predict(X_test)\n",
    "\n",
    "\n",
    "\n",
    "# checking accuracy\n",
    "print('Test Accuracy score: ', accuracy_score(y_test, downsampled_pred))\n",
    "\n",
    "\n",
    "# checking accuracy\n",
    "print('Test F1 score: ', f1_score(y_test, downsampled_pred))\n",
    "\n",
    "#checking confusion matrix\n",
    "\n",
    "# The ConfusionMatrix visualizer taxes a model\n",
    "cm = ConfusionMatrix(downsampled_lr, classes=[0,1])\n",
    "\n",
    "# Fit fits the passed model. This is unnecessary if you pass the visualizer a pre-fitted model\n",
    "cm.fit(X_train, y_train)\n",
    "\n",
    "# To create the ConfusionMatrix, we need some test data. Score runs predict() on the data\n",
    "# and then creates the confusion_matrix from scikit-learn.\n",
    "cm.score(X_test, y_test)\n",
    "\n",
    "# How did we do?\n",
    "cm.poof()"
   ]
  },
  {
   "cell_type": "markdown",
   "metadata": {},
   "source": [
    "## Over-sampling: SMOTE\n",
    "\n",
    "SMOTE (Synthetic Minority Oversampling Technique) consists of synthesizing elements for the minority class, based on those that already exist. It works randomly picking a point from the minority class and computing the k-nearest neighbors for this point. The synthetic points are added between the chosen point and its neighbors.\n",
    "\n",
    "![alt text](class_imb_images/smote.png)"
   ]
  },
  {
   "cell_type": "code",
<<<<<<< HEAD
   "execution_count": 20,
=======
   "execution_count": 34,
>>>>>>> ab874bf32bf6a963f31c7251004b743164ff84bb
   "metadata": {},
   "outputs": [],
   "source": [
    "from imblearn.over_sampling import SMOTE"
   ]
  },
  {
   "cell_type": "code",
<<<<<<< HEAD
   "execution_count": 21,
=======
   "execution_count": 35,
>>>>>>> ab874bf32bf6a963f31c7251004b743164ff84bb
   "metadata": {},
   "outputs": [],
   "source": [
    "\n",
    "# setting up testing and training sets\n",
    "X_train, X_test, y_train, y_test = train_test_split(X, y, test_size=0.25, random_state=23)\n",
    "\n",
    "sm = SMOTE(random_state=23, ratio=1.0)\n",
    "X_train, y_train = sm.fit_sample(X_train, y_train)"
   ]
  },
  {
   "cell_type": "code",
<<<<<<< HEAD
   "execution_count": 22,
=======
   "execution_count": 36,
>>>>>>> ab874bf32bf6a963f31c7251004b743164ff84bb
   "metadata": {},
   "outputs": [
    {
     "name": "stdout",
     "output_type": "stream",
     "text": [
      "Test Accuracy score:  0.7847533632286996\n",
      "Test F1 score:  0.68\n"
     ]
    },
    {
     "data": {
<<<<<<< HEAD
      "image/png": "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\n",
=======
      "image/png": "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\n",
>>>>>>> ab874bf32bf6a963f31c7251004b743164ff84bb
      "text/plain": [
       "<Figure size 576x396 with 1 Axes>"
      ]
     },
     "metadata": {},
     "output_type": "display_data"
    },
    {
     "data": {
      "text/plain": [
<<<<<<< HEAD
       "<matplotlib.axes._subplots.AxesSubplot at 0x125c06978>"
      ]
     },
     "execution_count": 22,
=======
       "<matplotlib.axes._subplots.AxesSubplot at 0x1c229a67f0>"
      ]
     },
     "execution_count": 36,
>>>>>>> ab874bf32bf6a963f31c7251004b743164ff84bb
     "metadata": {},
     "output_type": "execute_result"
    }
   ],
   "source": [
    "# smote_dt = DecisionTreeClassifier(max_depth=5)\n",
    "smote_lr = LogisticRegression(solver='liblinear')\n",
    "\n",
    "\n",
    "# smote_dt.fit(X_train, y_train)\n",
    "smote_lr.fit(X_train, y_train)\n",
    "\n",
    "\n",
    "# smote_pred = smote_dt.predict(X_test)\n",
    "smote_pred = smote_lr.predict(X_test)\n",
    "\n",
    "\n",
    "\n",
    "# checking accuracy\n",
    "print('Test Accuracy score: ', accuracy_score(y_test, smote_pred))\n",
    "\n",
    "\n",
    "# checking accuracy\n",
    "print('Test F1 score: ', f1_score(y_test, smote_pred))\n",
    "\n",
    "# The ConfusionMatrix visualizer taxes a model\n",
    "cm = ConfusionMatrix(smote_lr, classes=[0,1])\n",
    "\n",
    "# Fit fits the passed model. This is unnecessary if you pass the visualizer a pre-fitted model\n",
    "cm.fit(X_train, y_train)\n",
    "\n",
    "# To create the ConfusionMatrix, we need some test data. Score runs predict() on the data\n",
    "# and then creates the confusion_matrix from scikit-learn.\n",
    "cm.score(X_test, y_test)\n",
    "\n",
    "# How did we do?\n",
    "cm.poof()"
   ]
  },
  {
   "cell_type": "markdown",
   "metadata": {},
   "source": [
    "- Evaluation: \n",
    "    - cross-validation, preferably, k_fold\n",
    "    - test-train accuracy\n",
    "    - mean squared error"
   ]
  },
  {
   "cell_type": "markdown",
   "metadata": {},
   "source": [
    "- k-fold cross-validation:\n",
    "    - repeated k-fold: reduces variance by averaging\n",
    "    - stratified k-fold:good for imbalanced classes\n",
    "    - leave-one-out: better for smaller datasets"
   ]
  },
  {
   "cell_type": "code",
   "execution_count": null,
   "metadata": {},
   "outputs": [],
   "source": []
  },
  {
   "cell_type": "code",
   "execution_count": null,
   "metadata": {},
   "outputs": [],
   "source": []
  },
  {
   "cell_type": "markdown",
   "metadata": {},
   "source": [
    "## Cross Validation"
   ]
  },
  {
   "cell_type": "code",
   "execution_count": 40,
   "metadata": {},
   "outputs": [],
   "source": [
    "# Reading in the data... again\n",
    "\n",
    "titanic = pd.read_csv('cleaned_titanic.csv', index_col='PassengerId')"
   ]
  },
  {
   "cell_type": "code",
   "execution_count": 41,
   "metadata": {},
   "outputs": [],
   "source": [
    "# Create matrix of features... again\n",
    "X = titanic.drop('Survived', axis = 1) # grabs everything else but 'Survived'\n",
    "\n",
    "# Create target variable\n",
    "y = titanic['Survived'] # y is the column we're trying to predict\n",
    "\n",
    "# Create a list of the features being used in the \n",
    "feature_cols = X.columns"
   ]
  },
  {
   "cell_type": "code",
   "execution_count": 42,
   "metadata": {},
   "outputs": [],
   "source": [
    "# setting up testing and training sets... again\n",
    "\n",
    "X_train, X_test, y_train, y_test = train_test_split(X, y, test_size = 0.25, random_state = 0)"
   ]
  },
  {
   "cell_type": "code",
   "execution_count": 44,
   "metadata": {},
   "outputs": [],
   "source": [
    "from sklearn.preprocessing import StandardScaler\n",
    "\n",
    "feature_scaler = StandardScaler()\n",
    "X_train = feature_scaler.fit_transform(X_train)\n",
    "X_test = feature_scaler.transform(X_test)"
   ]
  },
  {
   "cell_type": "code",
   "execution_count": 45,
   "metadata": {},
   "outputs": [],
   "source": [
    "from sklearn.ensemble import RandomForestClassifier\n",
    "\n",
    "rf_classifier = RandomForestClassifier(n_estimators = 300, random_state = 0)"
   ]
  },
  {
   "cell_type": "code",
   "execution_count": 48,
   "metadata": {},
   "outputs": [],
   "source": [
    "from sklearn.model_selection import cross_val_score\n",
    "\n",
    "all_accuracies = cross_val_score(estimator = rf_classifier, X = X_train, y = y_train, cv = 10, n_jobs = -1)\n"
   ]
  },
  {
   "cell_type": "code",
   "execution_count": 49,
   "metadata": {},
   "outputs": [
    {
     "name": "stdout",
     "output_type": "stream",
     "text": [
      "[0.85294118 0.85294118 0.80882353 0.77272727 0.78787879 0.81818182\n",
      " 0.87878788 0.81818182 0.83333333 0.84848485]\n"
     ]
    }
   ],
   "source": [
    "print(all_accuracies)"
   ]
  },
  {
   "cell_type": "markdown",
   "metadata": {},
   "source": [
    "## Bringing it all together"
   ]
  },
  {
   "cell_type": "code",
   "execution_count": 56,
   "metadata": {},
   "outputs": [],
   "source": [
    "from sklearn.model_selection import cross_validate\n",
    "\n",
    "all_scores = cross_validate(estimator = rf_classifier, X = X_train, y = y_train, \n",
    "                            cv = 10, n_jobs = -1, scoring = ['accuracy', 'f1', 'recall', 'precision'])"
   ]
  },
  {
   "cell_type": "code",
   "execution_count": 57,
   "metadata": {},
   "outputs": [
    {
     "data": {
      "text/plain": [
       "{'fit_time': array([0.32545114, 0.32095504, 0.32833385, 0.32107925, 0.34290791,\n",
       "        0.32908106, 0.33301091, 0.34138584, 0.21440792, 0.20806599]),\n",
       " 'score_time': array([0.11139774, 0.10996604, 0.11098909, 0.11124372, 0.10110712,\n",
       "        0.10580826, 0.09859324, 0.08287382, 0.05710506, 0.05774117]),\n",
       " 'test_accuracy': array([0.85294118, 0.85294118, 0.80882353, 0.77272727, 0.78787879,\n",
       "        0.81818182, 0.87878788, 0.81818182, 0.83333333, 0.84848485]),\n",
       " 'test_f1': array([0.80769231, 0.80769231, 0.76363636, 0.70588235, 0.74074074,\n",
       "        0.76923077, 0.84      , 0.77777778, 0.7755102 , 0.81481481]),\n",
       " 'test_recall': array([0.77777778, 0.77777778, 0.77777778, 0.69230769, 0.76923077,\n",
       "        0.76923077, 0.80769231, 0.80769231, 0.73076923, 0.84615385]),\n",
       " 'test_precision': array([0.84      , 0.84      , 0.75      , 0.72      , 0.71428571,\n",
       "        0.76923077, 0.875     , 0.75      , 0.82608696, 0.78571429])}"
      ]
     },
     "execution_count": 57,
     "metadata": {},
     "output_type": "execute_result"
    }
   ],
   "source": [
    "all_scores"
   ]
  },
  {
   "cell_type": "code",
   "execution_count": null,
   "metadata": {},
   "outputs": [],
   "source": []
  },
  {
   "cell_type": "code",
   "execution_count": null,
   "metadata": {},
   "outputs": [],
   "source": []
  }
 ],
 "metadata": {
  "kernelspec": {
   "display_name": "Python 3",
   "language": "python",
   "name": "python3"
  },
  "language_info": {
   "codemirror_mode": {
    "name": "ipython",
    "version": 3
   },
   "file_extension": ".py",
   "mimetype": "text/x-python",
   "name": "python",
   "nbconvert_exporter": "python",
   "pygments_lexer": "ipython3",
   "version": "3.7.3"
  }
 },
 "nbformat": 4,
 "nbformat_minor": 2
}

{
 "cells": [
  {
   "cell_type": "markdown",
   "metadata": {},
   "source": [
    "## Unsupervised learning Intro\n",
    "\n",
    "photo here - diagram?\n",
    "\n",
    "Why do we need them\n",
    "\n",
    "- Data visualization\n",
    "\n",
    "- Dimension Reduction - Data Processing\n",
    "\n",
    "- Clustering\n",
    "\n",
    "__Comparison with Supervised Learning__\n",
    "\n",
    "- No obvious goals\n",
    "\n",
    "- No universally agreed mechanism for assessment\n",
    "\n",
    "## PCA\n",
    "\n",
    "finds a low-dimensional represen- tation of a data set that contains as much as possible of the variation\n",
    "\n",
    "Two different approach for the same process\n",
    "\n",
    "- find the directions that captures most within the dataset\n",
    "\n",
    "- These directions also define lines and subspaces that are as close as possible to the data cloud. \n",
    "\n",
    "-- When faced with a large set of corre- lated variables, principal components allow us to summarize this set with a smaller number of representative variables that collectively explain most of the variability in the original set.\n",
    "\n",
    "\n",
    "<center> <h3> What are the Principal Directions </h3> </center>\n",
    "\n",
    "<img src= \"img/first_principal_component.png\" style=\"height:100px\">\n",
    "\n",
    "__Notation__ $\\phi_{11}, \\cdots, \\phi_{p1}$ are called loadings and $\\phi_{1} = (\\phi_{11}, \\cdots, \\phi_{p1})^{\\intercal}$ is called _the first principal component_ \n",
    "\n",
    "Q: How do we find $\\phi_{1}$ given a dataset $X = [X_{1}, \\cdots, X_{p}]$?\n",
    "\n",
    "__Remark__ We will assume that the data is centralized: that is to say $\\bar{X_{i}} = \\frac{1}{n}\\sum_{j=1}^{n}x_{ij} = 0$\n",
    "\n",
    "A: $$ z_{i1} = \\phi_{11}x_{i1} + \\cdots + \\phi_{p1}x_{ip}$$  with a condition\n",
    "\n",
    "$$\\sum_{i = 1}^{p} \\phi_{j1}^{2} = 1$$\n",
    "\n",
    "Then the problem becomes\n",
    "\n",
    "<img src= \"img/optimization_problem.png\" style=\"height:100px\">\n",
    "\n",
    "\n",
    "or equivalently:\n",
    "\n",
    "$$ \\max_{\\phi_{11}, \\cdots, \\phi_{p1}}\\frac{1}{n} \\sum_{i = 1}^{n} z_{i1}^{2} \\qquad  \\text{subject to} \\quad \\sum_{j=1}^{p} \\phi_{j1}^{2}=1$$"
   ]
  },
  {
   "cell_type": "markdown",
   "metadata": {},
   "source": [
    "## Please!! PCA requires scaling!!!"
   ]
  },
  {
   "cell_type": "markdown",
   "metadata": {},
   "source": [
    "- supervised: the training over labeled data. get a pattern based on the data to do predictions. \n",
    "    - advantage: clear target of why.  \n",
    "    - classification: logistic, SVM, random forest\n",
    "    - regression: linear, SVM, random forest\n",
    "- unsupervised: no target to work with.\n",
    "    - challenge: not clear about what to do. no one single target to work with. \n",
    "    - need to do preprocessing of the data: PCA will process the data first to understand what is really important at first, called dimension reduction, then, can do supervised training\n",
    "    - PCA, give the data, find a better way to explain x. how to choose x? eigenvalue and eigenvector\n",
    "        - project variance to the line (90 degree). capture the line that capture the most variance\n",
    "        - first thing for PCA, standardize the data, find the pseudo line that pass the origin, so that the pseudo line won't be parallel to the first projected line. \n",
    "        - centralize data: subtract the mean, carry the data to origin\n",
    "        - to get projection on pseudo line, x1.u.cos0 = d, u = 1. distance: uT.Xi\n",
    "        - Why scaling? variance is scale dependent, capture variance\n",
    "- reinforcement learning"
   ]
  },
  {
   "cell_type": "markdown",
   "metadata": {},
   "source": [
    "# Centralize the Data"
   ]
  },
  {
   "cell_type": "code",
   "execution_count": 19,
   "metadata": {},
   "outputs": [],
   "source": [
    "import numpy as np"
   ]
  },
  {
   "cell_type": "code",
   "execution_count": 20,
   "metadata": {},
   "outputs": [],
   "source": [
    "x1 = np.random.normal(loc=8, scale=2.0, size=100)\n",
    "x2 = np.random.normal(loc=2, scale=1.0, size=100)"
   ]
  },
  {
   "cell_type": "code",
   "execution_count": 21,
   "metadata": {},
   "outputs": [],
   "source": [
    "import matplotlib.pyplot as plt"
   ]
  },
  {
   "cell_type": "code",
   "execution_count": 22,
   "metadata": {},
   "outputs": [
    {
     "data": {
      "text/plain": [
       "(-4, 8)"
      ]
     },
     "execution_count": 22,
     "metadata": {},
     "output_type": "execute_result"
    },
    {
     "data": {
      "image/png": "[encoded data removed]",
      "text/plain": [
       "<Figure size 432x288 with 1 Axes>"
      ]
     },
     "metadata": {
      "needs_background": "light"
     },
     "output_type": "display_data"
    }
   ],
   "source": [
    "plt.scatter(x1,x2,)\n",
    "plt.xlim((-2,16))\n",
    "plt.ylim((-4,8))"
   ]
  },
  {
   "cell_type": "code",
   "execution_count": 23,
   "metadata": {},
   "outputs": [],
   "source": [
    "x1_mean = x1.mean()\n",
    "x2_mean = x2.mean()"
   ]
  },
  {
   "cell_type": "code",
   "execution_count": 24,
   "metadata": {},
   "outputs": [],
   "source": [
    "x1_central = x1 - x1_mean\n",
    "x2_central = x2 - x2_mean"
   ]
  },
  {
   "cell_type": "code",
   "execution_count": 25,
   "metadata": {},
   "outputs": [
    {
     "data": {
      "text/plain": [
       "<matplotlib.collections.PathCollection at 0x12fe1de48>"
      ]
     },
     "execution_count": 25,
     "metadata": {},
     "output_type": "execute_result"
    },
    {
     "data": {
      "image/png": "[encoded data removed]",
      "text/plain": [
       "<Figure size 432x288 with 1 Axes>"
      ]
     },
     "metadata": {
      "needs_background": "light"
     },
     "output_type": "display_data"
    }
   ],
   "source": [
    "plt.scatter(x1_central,x2_central)"
   ]
  },
  {
   "cell_type": "markdown",
   "metadata": {},
   "source": [
    "### Some Experiments on Scaling Data"
   ]
  },
  {
   "cell_type": "code",
   "execution_count": 26,
   "metadata": {},
   "outputs": [],
   "source": [
    "import numpy as np\n",
    "\n",
    "import pandas as pd\n",
    "\n",
    "import matplotlib.pyplot as plt\n",
    "\n",
    "from sklearn.preprocessing import StandardScaler\n",
    "\n",
    "from sklearn.preprocessing import Normalizer\n",
    "\n",
    "from sklearn.preprocessing import MinMaxScaler"
   ]
  },
  {
   "cell_type": "code",
   "execution_count": 36,
   "metadata": {},
   "outputs": [],
   "source": [
    "binomial = np.random.binomial(1, 0.2, 100)"
   ]
  },
  {
   "cell_type": "code",
   "execution_count": 37,
   "metadata": {},
   "outputs": [
    {
     "data": {
      "text/plain": [
       "(array([0, 1]), array([80, 20]))"
      ]
     },
     "execution_count": 37,
     "metadata": {},
     "output_type": "execute_result"
    }
   ],
   "source": [
    "binomial\n",
    "\n",
    "np.unique(binomial, return_counts= True)"
   ]
  },
  {
   "cell_type": "code",
   "execution_count": 38,
   "metadata": {},
   "outputs": [
    {
     "data": {
      "text/plain": [
       "0.2"
      ]
     },
     "execution_count": 38,
     "metadata": {},
     "output_type": "execute_result"
    }
   ],
   "source": [
    "binomial.mean()"
   ]
  },
  {
   "cell_type": "code",
   "execution_count": 39,
   "metadata": {},
   "outputs": [
    {
     "name": "stdout",
     "output_type": "stream",
     "text": [
      "0.4 0.16000000000000003\n"
     ]
    }
   ],
   "source": [
    "print(np.std(binomial), np.var(binomial) )"
   ]
  },
  {
   "cell_type": "code",
   "execution_count": 40,
   "metadata": {},
   "outputs": [
    {
     "data": {
      "text/plain": [
       "(array([80.,  0.,  0.,  0.,  0.,  0.,  0.,  0.,  0., 20.]),\n",
       " array([0. , 0.1, 0.2, 0.3, 0.4, 0.5, 0.6, 0.7, 0.8, 0.9, 1. ]),\n",
       " <a list of 10 Patch objects>)"
      ]
     },
     "execution_count": 40,
     "metadata": {},
     "output_type": "execute_result"
    },
    {
     "data": {
      "image/png": "[encoded data removed]",
      "text/plain": [
       "<Figure size 432x288 with 1 Axes>"
      ]
     },
     "metadata": {
      "needs_background": "light"
     },
     "output_type": "display_data"
    }
   ],
   "source": [
    "plt.hist(binomial)"
   ]
  },
  {
   "cell_type": "code",
   "execution_count": 41,
   "metadata": {},
   "outputs": [],
   "source": [
    "std_scaler = StandardScaler()"
   ]
  },
  {
   "cell_type": "code",
   "execution_count": 42,
   "metadata": {},
   "outputs": [
    {
     "name": "stderr",
     "output_type": "stream",
     "text": [
      "/Users/yl/anaconda3/lib/python3.7/site-packages/sklearn/utils/validation.py:595: DataConversionWarning: Data with input dtype int64 was converted to float64 by StandardScaler.\n",
      "  warnings.warn(msg, DataConversionWarning)\n",
      "/Users/yl/anaconda3/lib/python3.7/site-packages/sklearn/utils/validation.py:595: DataConversionWarning: Data with input dtype int64 was converted to float64 by StandardScaler.\n",
      "  warnings.warn(msg, DataConversionWarning)\n"
     ]
    }
   ],
   "source": [
    "s_binomial = std_scaler.fit_transform(binomial.reshape(-1,1))"
   ]
  },
  {
   "cell_type": "code",
   "execution_count": 44,
   "metadata": {},
   "outputs": [
    {
     "data": {
      "text/plain": [
       "0.0"
      ]
     },
     "execution_count": 44,
     "metadata": {},
     "output_type": "execute_result"
    }
   ],
   "source": [
    "s_binomial.mean()"
   ]
  },
  {
   "cell_type": "code",
   "execution_count": 45,
   "metadata": {},
   "outputs": [
    {
     "data": {
      "text/plain": [
       "1.0"
      ]
     },
     "execution_count": 45,
     "metadata": {},
     "output_type": "execute_result"
    }
   ],
   "source": [
    "np.var(s_binomial)"
   ]
  },
  {
   "cell_type": "code",
   "execution_count": 48,
   "metadata": {},
   "outputs": [
    {
     "name": "stdout",
     "output_type": "stream",
     "text": [
      "1.0\n"
     ]
    },
    {
     "data": {
      "image/png": "[encoded data removed]",
      "text/plain": [
       "<Figure size 432x288 with 1 Axes>"
      ]
     },
     "metadata": {
      "needs_background": "light"
     },
     "output_type": "display_data"
    }
   ],
   "source": [
    "plt.hist(s_binomial)\n",
    "print(np.std(s_binomial))"
   ]
  },
  {
   "cell_type": "markdown",
   "metadata": {},
   "source": [
    "standarscaler just change the mean and var"
   ]
  },
  {
   "cell_type": "code",
   "execution_count": 52,
   "metadata": {},
   "outputs": [],
   "source": [
    "chi_squared = np.random.chisquare(4, size = 100)"
   ]
  },
  {
   "cell_type": "code",
   "execution_count": 53,
   "metadata": {},
   "outputs": [
    {
     "data": {
      "text/plain": [
       "(array([31., 33., 22.,  3.,  6.,  2.,  2.,  0.,  0.,  1.]),\n",
       " array([ 0.23082429,  2.14544055,  4.0600568 ,  5.97467305,  7.8892893 ,\n",
       "         9.80390555, 11.7185218 , 13.63313805, 15.5477543 , 17.46237055,\n",
       "        19.3769868 ]),\n",
       " <a list of 10 Patch objects>)"
      ]
     },
     "execution_count": 53,
     "metadata": {},
     "output_type": "execute_result"
    },
    {
     "data": {
      "image/png": "[encoded data removed]",
      "text/plain": [
       "<Figure size 432x288 with 1 Axes>"
      ]
     },
     "metadata": {
      "needs_background": "light"
     },
     "output_type": "display_data"
    }
   ],
   "source": [
    "plt.hist(chi_squared)"
   ]
  },
  {
   "cell_type": "code",
   "execution_count": 54,
   "metadata": {},
   "outputs": [],
   "source": [
    "ss = StandardScaler()\n",
    "\n",
    "s_chi_squared = ss.fit_transform(chi_squared.reshape(-1,1))"
   ]
  },
  {
   "cell_type": "code",
   "execution_count": 55,
   "metadata": {},
   "outputs": [
    {
     "data": {
      "text/plain": [
       "(array([31., 33., 22.,  3.,  6.,  2.,  2.,  0.,  0.,  1.]),\n",
       " array([-1.20331158, -0.57141854,  0.0604745 ,  0.69236755,  1.32426059,\n",
       "         1.95615363,  2.58804668,  3.21993972,  3.85183276,  4.48372581,\n",
       "         5.11561885]),\n",
       " <a list of 10 Patch objects>)"
      ]
     },
     "execution_count": 55,
     "metadata": {},
     "output_type": "execute_result"
    },
    {
     "data": {
      "image/png": "[encoded data removed]",
      "text/plain": [
       "<Figure size 432x288 with 1 Axes>"
      ]
     },
     "metadata": {
      "needs_background": "light"
     },
     "output_type": "display_data"
    }
   ],
   "source": [
    "plt.hist(s_chi_squared)"
   ]
  },
  {
   "cell_type": "code",
   "execution_count": 43,
   "metadata": {},
   "outputs": [
    {
     "name": "stdout",
     "output_type": "stream",
     "text": [
      "1.0 -1.1102230246251565e-16\n"
     ]
    }
   ],
   "source": [
    "print(np.var(s_chi_squared), np.mean(s_chi_squared))"
   ]
  },
  {
   "cell_type": "markdown",
   "metadata": {},
   "source": [
    "# standardscaler doesn't change distribution, just change mean and variance"
   ]
  },
  {
   "cell_type": "markdown",
   "metadata": {},
   "source": [
    "# minmax cannot change variance, it just change the data into 0 to 1, don't do this to PCA"
   ]
  },
  {
   "cell_type": "markdown",
   "metadata": {},
   "source": [
    "will this be the same thing for logistic regression?"
   ]
  },
  {
   "cell_type": "code",
   "execution_count": 44,
   "metadata": {},
   "outputs": [],
   "source": [
    "mm = MinMaxScaler()"
   ]
  },
  {
   "cell_type": "code",
   "execution_count": 48,
   "metadata": {},
   "outputs": [
    {
     "name": "stdout",
     "output_type": "stream",
     "text": [
      "8.94104280375437 4.296656992377416\n"
     ]
    },
    {
     "data": {
      "image/png": "[encoded data removed]",
      "text/plain": [
       "<Figure size 432x288 with 1 Axes>"
      ]
     },
     "metadata": {
      "needs_background": "light"
     },
     "output_type": "display_data"
    }
   ],
   "source": [
    "mm_chi = mm.fit_transform(chi_squared.reshape(-1,1))\n",
    "\n",
    "plt.hist(mm_chi)\n",
    "\n",
    "print(np.var(chi_squared), np.mean(chi_squared))"
   ]
  },
  {
   "cell_type": "code",
   "execution_count": null,
   "metadata": {},
   "outputs": [],
   "source": []
  }
 ],
 "metadata": {
  "kernelspec": {
   "display_name": "Python 3",
   "language": "python",
   "name": "python3"
  },
  "language_info": {
   "codemirror_mode": {
    "name": "ipython",
    "version": 3
   },
   "file_extension": ".py",
   "mimetype": "text/x-python",
   "name": "python",
   "nbconvert_exporter": "python",
   "pygments_lexer": "ipython3",
   "version": "3.7.3"
  }
 },
 "nbformat": 4,
 "nbformat_minor": 2
}

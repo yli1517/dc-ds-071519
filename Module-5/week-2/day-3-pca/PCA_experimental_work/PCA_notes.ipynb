{
 "cells": [
  {
   "cell_type": "markdown",
   "metadata": {},
   "source": [
    "## Unsupervised learning Intro\n",
    "\n",
    "photo here - diagram?\n",
    "\n",
    "Why do we need them\n",
    "\n",
    "- Data visualization\n",
    "\n",
    "- Dimension Reduction - Data Processing\n",
    "\n",
    "- Clustering\n",
    "\n",
    "__Comparison with Supervised Learning__\n",
    "\n",
    "- No obvious goals\n",
    "\n",
    "- No universally agreed mechanism for assessment\n",
    "\n",
    "## PCA\n",
    "\n",
    "finds a low-dimensional represen- tation of a data set that contains as much as possible of the variation\n",
    "\n",
    "Two different approach for the same process\n",
    "\n",
    "- find the directions that captures most within the dataset\n",
    "\n",
    "- These directions also define lines and subspaces that are as close as possible to the data cloud. \n",
    "\n",
    "-- When faced with a large set of corre- lated variables, principal components allow us to summarize this set with a smaller number of representative variables that collectively explain most of the variability in the original set.\n",
    "\n",
    "\n",
    "<center> <h3> What are the Principal Directions </h3> </center>\n",
    "\n",
    "<img src= \"img/first_principal_component.png\" style=\"height:100px\">\n",
    "\n",
    "__Notation__ $\\phi_{11}, \\cdots, \\phi_{p1}$ are called loadings and $\\phi_{1} = (\\phi_{11}, \\cdots, \\phi_{p1})^{\\intercal}$ is called _the first principal component_ \n",
    "\n",
    "Q: How do we find $\\phi_{1}$ given a dataset $X = [X_{1}, \\cdots, X_{p}]$?\n",
    "\n",
    "__Remark__ We will assume that the data is centralized: that is to say $\\bar{X_{i}} = \\frac{1}{n}\\sum_{j=1}^{n}x_{ij} = 0$\n",
    "\n",
    "A: $$ z_{i1} = \\phi_{11}x_{i1} + \\cdots + \\phi_{p1}x_{ip}$$  with a condition\n",
    "\n",
    "$$\\sum_{i = 1}^{p} \\phi_{j1}^{2} = 1$$\n",
    "\n",
    "Then the problem becomes\n",
    "\n",
    "<img src= \"img/optimization_problem.png\" style=\"height:100px\">\n",
    "\n",
    "\n",
    "or equivalently:\n",
    "\n",
    "$$ \\max_{\\phi_{11}, \\cdots, \\phi_{p1}}\\frac{1}{n} \\sum_{i = 1}^{n} z_{i1}^{2} \\qquad  \\text{subject to} \\quad \\sum_{j=1}^{p} \\phi_{j1}^{2}=1$$"
   ]
  },
  {
   "cell_type": "markdown",
   "metadata": {},
   "source": [
    "### Some Experiments on Scaling Data"
   ]
  },
  {
   "cell_type": "code",
   "execution_count": 2,
   "metadata": {},
   "outputs": [],
   "source": [
    "import numpy as np\n",
    "\n",
    "import pandas as pd\n",
    "\n",
    "import matplotlib.pyplot as plt\n",
    "\n",
    "from sklearn.preprocessing import StandardScaler\n",
    "\n",
    "from sklearn.preprocessing import Normalizer\n",
    "\n",
    "from sklearn.preprocessing import MinMaxScaler"
   ]
  },
  {
   "cell_type": "code",
   "execution_count": 9,
   "metadata": {},
   "outputs": [],
   "source": [
    "binomial = np.random.binomial(1, 0.2, 100)"
   ]
  },
  {
   "cell_type": "code",
   "execution_count": 11,
   "metadata": {},
   "outputs": [
    {
     "data": {
      "text/plain": [
       "(array([0, 1]), array([78, 22]))"
      ]
     },
     "execution_count": 11,
     "metadata": {},
     "output_type": "execute_result"
    }
   ],
   "source": [
    "binomial\n",
    "\n",
    "np.unique(binomial, return_counts= True)"
   ]
  },
  {
   "cell_type": "code",
   "execution_count": 24,
   "metadata": {},
   "outputs": [
    {
     "name": "stdout",
     "output_type": "stream",
     "text": [
      "0.41424630354415964 0.17160000000000003\n"
     ]
    }
   ],
   "source": [
    "print(np.std(binomial), np.var(binomial) )"
   ]
  },
  {
   "cell_type": "code",
   "execution_count": 12,
   "metadata": {},
   "outputs": [],
   "source": [
    "std_scaler = StandardScaler()"
   ]
  },
  {
   "cell_type": "code",
   "execution_count": 15,
   "metadata": {},
   "outputs": [],
   "source": [
    "s_binomial = std_scaler.fit_transform(binomial.reshape(-1,1))"
   ]
  },
  {
   "cell_type": "code",
   "execution_count": 25,
   "metadata": {},
   "outputs": [
    {
     "name": "stdout",
     "output_type": "stream",
     "text": [
      "1.0\n"
     ]
    },
    {
     "data": {
      "image/png": "[encoded data removed]",
      "text/plain": [
       "<Figure size 432x288 with 1 Axes>"
      ]
     },
     "metadata": {
      "needs_background": "light"
     },
     "output_type": "display_data"
    }
   ],
   "source": [
    "plt.hist(s_binomial)\n",
    "print(np.std(s_binomial))"
   ]
  },
  {
   "cell_type": "code",
   "execution_count": 38,
   "metadata": {},
   "outputs": [],
   "source": [
    "chi_squared = np.random.chisquare(4, size = 100)"
   ]
  },
  {
   "cell_type": "code",
   "execution_count": 39,
   "metadata": {},
   "outputs": [
    {
     "data": {
      "text/plain": [
       "(array([22., 22., 23., 11.,  9.,  4.,  4.,  2.,  2.,  1.]),\n",
       " array([ 0.3063279 ,  1.76969731,  3.23306672,  4.69643613,  6.15980554,\n",
       "         7.62317495,  9.08654436, 10.54991377, 12.01328318, 13.47665259,\n",
       "        14.940022  ]),\n",
       " <a list of 10 Patch objects>)"
      ]
     },
     "execution_count": 39,
     "metadata": {},
     "output_type": "execute_result"
    },
    {
     "data": {
      "image/png": "[encoded data removed]",
      "text/plain": [
       "<Figure size 432x288 with 1 Axes>"
      ]
     },
     "metadata": {
      "needs_background": "light"
     },
     "output_type": "display_data"
    }
   ],
   "source": [
    "plt.hist(chi_squared)"
   ]
  },
  {
   "cell_type": "code",
   "execution_count": 40,
   "metadata": {},
   "outputs": [],
   "source": [
    "ss = StandardScaler()\n",
    "\n",
    "s_chi_squared = ss.fit_transform(chi_squared.reshape(-1,1))"
   ]
  },
  {
   "cell_type": "code",
   "execution_count": 42,
   "metadata": {},
   "outputs": [
    {
     "data": {
      "text/plain": [
       "(array([22., 22., 23., 11.,  9.,  4.,  4.,  2.,  2.,  1.]),\n",
       " array([-1.33448786, -0.84509246, -0.35569706,  0.13369835,  0.62309375,\n",
       "         1.11248915,  1.60188456,  2.09127996,  2.58067536,  3.07007076,\n",
       "         3.55946617]),\n",
       " <a list of 10 Patch objects>)"
      ]
     },
     "execution_count": 42,
     "metadata": {},
     "output_type": "execute_result"
    },
    {
     "data": {
      "image/png": "[encoded data removed]",
      "text/plain": [
       "<Figure size 432x288 with 1 Axes>"
      ]
     },
     "metadata": {
      "needs_background": "light"
     },
     "output_type": "display_data"
    }
   ],
   "source": [
    "plt.hist(s_chi_squared)"
   ]
  },
  {
   "cell_type": "code",
   "execution_count": 43,
   "metadata": {},
   "outputs": [
    {
     "name": "stdout",
     "output_type": "stream",
     "text": [
      "1.0 -1.1102230246251565e-16\n"
     ]
    }
   ],
   "source": [
    "print(np.var(s_chi_squared), np.mean(s_chi_squared))"
   ]
  },
  {
   "cell_type": "code",
   "execution_count": 44,
   "metadata": {},
   "outputs": [],
   "source": [
    "mm = MinMaxScaler()"
   ]
  },
  {
   "cell_type": "code",
   "execution_count": 48,
   "metadata": {},
   "outputs": [
    {
     "name": "stdout",
     "output_type": "stream",
     "text": [
      "8.94104280375437 4.296656992377416\n"
     ]
    },
    {
     "data": {
      "image/png": "[encoded data removed]",
      "text/plain": [
       "<Figure size 432x288 with 1 Axes>"
      ]
     },
     "metadata": {
      "needs_background": "light"
     },
     "output_type": "display_data"
    }
   ],
   "source": [
    "mm_chi = mm.fit_transform(chi_squared.reshape(-1,1))\n",
    "\n",
    "plt.hist(mm_chi)\n",
    "\n",
    "print(np.var(chi_squared), np.mean(chi_squared))"
   ]
  },
  {
   "cell_type": "code",
   "execution_count": null,
   "metadata": {},
   "outputs": [],
   "source": []
  }
 ],
 "metadata": {
  "kernelspec": {
   "display_name": "Python 3",
   "language": "python",
   "name": "python3"
  },
  "language_info": {
   "codemirror_mode": {
    "name": "ipython",
    "version": 3
   },
   "file_extension": ".py",
   "mimetype": "text/x-python",
   "name": "python",
   "nbconvert_exporter": "python",
   "pygments_lexer": "ipython3",
   "version": "3.7.3"
  }
 },
 "nbformat": 4,
 "nbformat_minor": 2
}

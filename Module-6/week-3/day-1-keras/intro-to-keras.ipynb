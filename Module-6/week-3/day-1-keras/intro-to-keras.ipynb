{
 "cells": [
  {
   "cell_type": "markdown",
   "metadata": {},
   "source": [
    "<h1 style=\"color:brown;\">  Hands on practice with neural network</h1> "
   ]
  },
  {
   "cell_type": "markdown",
   "metadata": {},
   "source": [
    "### Lesson plan"
   ]
  },
  {
   "cell_type": "markdown",
   "metadata": {},
   "source": [
    "1. How to evaluate a model? <a href=\"https://colah.github.io/posts/2015-09-Visual-Information/\">cross-entropy</a>\n",
    "2. Types of Neural Nets\n",
    "3. Keras & Tensorflow - specialized framework (python library) for machine learning\n",
    "4. Hands on image reconstruction with Keras (approximately PCA)"
   ]
  },
  {
   "cell_type": "markdown",
   "metadata": {},
   "source": [
    "### Some types of neural networks  "
   ]
  },
  {
   "cell_type": "markdown",
   "metadata": {},
   "source": [
    "- Classic - what we did on Friday\n",
    "- Auto-encoder (like PCA finding compressed representation) - now\n",
    "\n",
    "the hidden layer is an encoding of the generalization\n",
    "- Recurrent neural network - coming soon\n",
    "- Convlutional neural networks - coming soon"
   ]
  },
  {
   "cell_type": "markdown",
   "metadata": {},
   "source": [
    "![](./img/RNN.png)"
   ]
  },
  {
   "cell_type": "markdown",
   "metadata": {},
   "source": [
    "![](./img/CNN.png)"
   ]
  },
  {
   "cell_type": "markdown",
   "metadata": {},
   "source": [
    "![](./img/autorec.png)"
   ]
  },
  {
   "cell_type": "markdown",
   "metadata": {
    "slideshow": {
     "slide_type": "slide"
    }
   },
   "source": [
    "### 3. Tensorflow and Keras\n",
    "##### An Example"
   ]
  },
  {
   "cell_type": "markdown",
   "metadata": {
    "slideshow": {
     "slide_type": "slide"
    }
   },
   "source": [
    "### Image Classification\n",
    "[CIFAR-10](http://www.cs.toronto.edu/~kriz/cifar.html) is a common benchmark in machine learning for image recognition. The CIFAR-10 dataset consists of 60000 32x32 colour images in 10 classes, with 6000 images per class. There are 50000 training images and 10000 test images. \n",
    "\n",
    "<img align =left src=\"./img/c10imgcat.png\">"
   ]
  },
  {
   "cell_type": "markdown",
   "metadata": {
    "slideshow": {
     "slide_type": "slide"
    }
   },
   "source": [
    "<img align =left src=\"./img/tf-logo3.png\"><br>\n",
    "\n",
    "\n",
    "This task can be accomplished in TensorFlow and the code can be found [here](https://github.com/tensorflow/models/tree/master/tutorials/image/cifar10/). Let's look at it together. "
   ]
  },
  {
   "cell_type": "markdown",
   "metadata": {
    "slideshow": {
     "slide_type": "slide"
    }
   },
   "source": [
    "<img align =left src=\"./img/keras.png\"><br>\n",
    "\n",
    "Now, the same task in [in Keras](https://keras.io/examples/cifar10_cnn/). After looking at it and comparing it to the tensorflow code, what do you notice? Any formatting look familiar?"
   ]
  },
  {
   "cell_type": "markdown",
   "metadata": {
    "slideshow": {
     "slide_type": "slide"
    }
   },
   "source": [
    "### Similar to another scenario we've seen:\n",
    "\n",
    "![statsmodels](./img/statsmodels_hybi_banner.png)\n",
    "\n",
    "vs\n",
    "\n",
    "![sklearn](./img/sklearn.png )"
   ]
  },
  {
   "cell_type": "markdown",
   "metadata": {
    "slideshow": {
     "slide_type": "slide"
    }
   },
   "source": [
    "### Okay, but should I use Keras or Tensorflow?\n",
    "![wrong question](https://www.pyimagesearch.com/wp-content/uploads/2018/10/keras_vs_tensorflow_wrong_question.jpg)"
   ]
  },
  {
   "cell_type": "markdown",
   "metadata": {
    "slideshow": {
     "slide_type": "slide"
    }
   },
   "source": [
    "### Keras is an API\n",
    "\n",
    "Coded in Python, that can be layered on top of many different back-end processing systems.\n",
    "\n",
    "![kerasback](./img/keras_2.png)\n",
    "\n",
    "While each of these systems has their own coding methods, Keras abstracts from that in streamlined pythonic manner we are used to seeing in other python modeling libraries.\n",
    "\n",
    "Keras development is backed primarily by Google, and the Keras API comes packaged in TensorFlow as tf.keras. Additionally, Microsoft maintains the CNTK Keras backend. Amazon AWS is maintaining the Keras fork with MXNet support. Other contributing companies include NVIDIA, Uber, and Apple (with CoreML)."
   ]
  },
  {
   "cell_type": "markdown",
   "metadata": {
    "slideshow": {
     "slide_type": "slide"
    }
   },
   "source": [
    "## Wait, what's TensorFlow?\n"
   ]
  },
  {
   "cell_type": "markdown",
   "metadata": {
    "slideshow": {
     "slide_type": "fragment"
    }
   },
   "source": [
    "## Let's start with tensors"
   ]
  },
  {
   "cell_type": "markdown",
   "metadata": {
    "slideshow": {
     "slide_type": "slide"
    }
   },
   "source": [
    "## Tensors are multidimensional matricies\n",
    "\n",
    "![tensor](./img/tensors.png)"
   ]
  },
  {
   "cell_type": "markdown",
   "metadata": {},
   "source": [
    "### TensorFlow manages the flow of matrix math\n",
    "\n",
    "That makes neural network processing possible.\n",
    "\n",
    "![cat](./img/cat-tensors.gif)"
   ]
  },
  {
   "cell_type": "markdown",
   "metadata": {},
   "source": [
    "## TensorFlow at its start\n",
    "\n",
    "An open-source library\n",
    "\n",
    "![more-arch](./img/layers.png)"
   ]
  },
  {
   "cell_type": "markdown",
   "metadata": {
    "slideshow": {
     "slide_type": "slide"
    }
   },
   "source": [
    "### 2007 Keras was fully integrated into TensorFlow\n",
    "\n",
    "It \"comes with\" Tensorflow and provides all the medium to high end API services to integrate with tensorflow processing.\n",
    "\n",
    "![tensorflow-prog](./img/tensorflow_programming_environment.png)"
   ]
  },
  {
   "cell_type": "markdown",
   "metadata": {},
   "source": [
    "### Keras, an API with an intentional UX\n",
    "\n",
    "- Deliberately design end-to-end user workflows\n",
    "- Reduce cognitive load for your users\n",
    "- Provide helpful feedback to your users\n",
    "\n",
    "[full article here](https://blog.keras.io/user-experience-design-for-apis.html)<br>\n",
    "[full list of why to use Keras](https://keras.io/why-use-keras/)"
   ]
  },
  {
   "cell_type": "markdown",
   "metadata": {},
   "source": [
    "### A few comparisons\n",
    "\n",
    "While you **can leverage both**, here are a few comparisons.\n",
    "\n",
    "| Comparison | Keras | Tensorflow|\n",
    "|------------|-------|-----------|\n",
    "| **Level of API** | high-level API | High and low-level APIs |\n",
    "| **Speed** |  can *seem* slower |  is a bit faster |\n",
    "| **Language architecture** | simple architecture, more readable and concise | straight tensorflow is a bit mroe complex |\n",
    "| **Debugging** | less frequent need to debug | difficult to debug |\n",
    "| **Datasets** | usually used for small datasets | high performance models and large datasets that require fast execution|\n",
    "\n",
    "This is also a _**non-issue**_ - as you can leverage tensorflow commands within keras and vice versa. If Keras ever seems slower, it's because the developer's time is more expensive than the GPUs. Keras is designed with the developer in mind. \n",
    "\n",
    "\n",
    "[reference link](https://www.edureka.co/blog/keras-vs-tensorflow-vs-pytorch/)"
   ]
  },
  {
   "cell_type": "markdown",
   "metadata": {},
   "source": [
    "## More levers and buttons\n",
    "\n",
    "Coding directly in **Tensorflow** allows you to tweak more parameters to optimize performance. The **Keras** wrapper makes the code more accessible for developers prototyping models.\n",
    "\n",
    "![levers](./img/levers.jpeg)"
   ]
  },
  {
   "cell_type": "markdown",
   "metadata": {},
   "source": [
    "### Building our first Neural Network - Auto-encoder"
   ]
  },
  {
   "cell_type": "markdown",
   "metadata": {},
   "source": [
    "#### Install Keras & tensorflow"
   ]
  },
  {
   "cell_type": "code",
   "execution_count": 1,
   "metadata": {},
   "outputs": [
    {
     "name": "stdout",
     "output_type": "stream",
     "text": [
      "Requirement already satisfied: tensorflow in /Users/yl/anaconda3/lib/python3.7/site-packages (2.0.0)\n",
      "Requirement already satisfied: opt-einsum>=2.3.2 in /Users/yl/anaconda3/lib/python3.7/site-packages (from tensorflow) (3.1.0)\n",
      "Requirement already satisfied: keras-applications>=1.0.8 in /Users/yl/anaconda3/lib/python3.7/site-packages (from tensorflow) (1.0.8)\n",
      "Requirement already satisfied: termcolor>=1.1.0 in /Users/yl/anaconda3/lib/python3.7/site-packages (from tensorflow) (1.1.0)\n",
      "Requirement already satisfied: astor>=0.6.0 in /Users/yl/anaconda3/lib/python3.7/site-packages (from tensorflow) (0.8.0)\n",
      "Requirement already satisfied: keras-preprocessing>=1.0.5 in /Users/yl/anaconda3/lib/python3.7/site-packages (from tensorflow) (1.1.0)\n",
      "Requirement already satisfied: tensorflow-estimator<2.1.0,>=2.0.0 in /Users/yl/anaconda3/lib/python3.7/site-packages (from tensorflow) (2.0.0)\n",
      "Requirement already satisfied: gast==0.2.2 in /Users/yl/anaconda3/lib/python3.7/site-packages (from tensorflow) (0.2.2)\n",
      "Requirement already satisfied: wheel>=0.26 in /Users/yl/anaconda3/lib/python3.7/site-packages (from tensorflow) (0.33.1)\n",
      "Requirement already satisfied: google-pasta>=0.1.6 in /Users/yl/anaconda3/lib/python3.7/site-packages (from tensorflow) (0.1.7)\n",
      "Requirement already satisfied: grpcio>=1.8.6 in /Users/yl/anaconda3/lib/python3.7/site-packages (from tensorflow) (1.24.1)\n",
      "Requirement already satisfied: tensorboard<2.1.0,>=2.0.0 in /Users/yl/anaconda3/lib/python3.7/site-packages (from tensorflow) (2.0.0)\n",
      "Requirement already satisfied: six>=1.10.0 in /Users/yl/anaconda3/lib/python3.7/site-packages (from tensorflow) (1.12.0)\n",
      "Requirement already satisfied: wrapt>=1.11.1 in /Users/yl/anaconda3/lib/python3.7/site-packages (from tensorflow) (1.11.1)\n",
      "Requirement already satisfied: absl-py>=0.7.0 in /Users/yl/anaconda3/lib/python3.7/site-packages (from tensorflow) (0.8.0)\n",
      "Requirement already satisfied: numpy<2.0,>=1.16.0 in /Users/yl/anaconda3/lib/python3.7/site-packages (from tensorflow) (1.16.2)\n",
      "Requirement already satisfied: protobuf>=3.6.1 in /Users/yl/anaconda3/lib/python3.7/site-packages (from tensorflow) (3.10.0)\n",
      "Requirement already satisfied: h5py in /Users/yl/anaconda3/lib/python3.7/site-packages (from keras-applications>=1.0.8->tensorflow) (2.9.0)\n",
      "Requirement already satisfied: werkzeug>=0.11.15 in /Users/yl/anaconda3/lib/python3.7/site-packages (from tensorboard<2.1.0,>=2.0.0->tensorflow) (0.14.1)\n",
      "Collecting setuptools>=41.0.0 (from tensorboard<2.1.0,>=2.0.0->tensorflow)\n",
      "\u001b[?25l  Downloading https://files.pythonhosted.org/packages/6a/9a/50fadfd53ec909e4399b67c74cc7f4e883488035cfcdb90b685758fa8b34/setuptools-41.4.0-py2.py3-none-any.whl (580kB)\n",
      "\u001b[K     |████████████████████████████████| 583kB 3.9MB/s eta 0:00:01\n",
      "\u001b[?25hRequirement already satisfied: markdown>=2.6.8 in /Users/yl/anaconda3/lib/python3.7/site-packages (from tensorboard<2.1.0,>=2.0.0->tensorflow) (3.1.1)\n",
      "Installing collected packages: setuptools\n",
      "  Found existing installation: setuptools 40.8.0\n",
      "    Uninstalling setuptools-40.8.0:\n",
      "      Successfully uninstalled setuptools-40.8.0\n",
      "Successfully installed setuptools-41.4.0\n",
      "Requirement already satisfied: keras in /Users/yl/anaconda3/lib/python3.7/site-packages (2.3.0)\n",
      "Requirement already satisfied: keras-applications>=1.0.6 in /Users/yl/anaconda3/lib/python3.7/site-packages (from keras) (1.0.8)\n",
      "Requirement already satisfied: keras-preprocessing>=1.0.5 in /Users/yl/anaconda3/lib/python3.7/site-packages (from keras) (1.1.0)\n",
      "Requirement already satisfied: pyyaml in /Users/yl/anaconda3/lib/python3.7/site-packages (from keras) (5.1)\n",
      "Requirement already satisfied: six>=1.9.0 in /Users/yl/anaconda3/lib/python3.7/site-packages (from keras) (1.12.0)\n",
      "Requirement already satisfied: h5py in /Users/yl/anaconda3/lib/python3.7/site-packages (from keras) (2.9.0)\n",
      "Requirement already satisfied: numpy>=1.9.1 in /Users/yl/anaconda3/lib/python3.7/site-packages (from keras) (1.16.2)\n",
      "Requirement already satisfied: scipy>=0.14 in /Users/yl/anaconda3/lib/python3.7/site-packages (from keras) (1.3.1)\n"
     ]
    }
   ],
   "source": [
    "!pip install tensorflow\n",
    "!pip install keras"
   ]
  },
  {
   "cell_type": "markdown",
   "metadata": {},
   "source": [
    "### Keras basic syntax "
   ]
  },
  {
   "cell_type": "markdown",
   "metadata": {},
   "source": [
    "<a href=\"https://keras.io\">Documentation</a>"
   ]
  },
  {
   "cell_type": "code",
   "execution_count": 2,
   "metadata": {},
   "outputs": [
    {
     "name": "stderr",
     "output_type": "stream",
     "text": [
      "Using TensorFlow backend.\n"
     ]
    }
   ],
   "source": [
    "import keras"
   ]
  },
  {
   "cell_type": "code",
   "execution_count": 3,
   "metadata": {},
   "outputs": [],
   "source": [
    "## initialize the model\n",
    "from keras.models import Sequential\n",
    "from keras.layers import Input, Dense\n",
    "model = Sequential()\n",
    "# sequential: take layers\n",
    "# input layer\n",
    "# dense can be considered as hidden layer"
   ]
  },
  {
   "cell_type": "code",
   "execution_count": 4,
   "metadata": {},
   "outputs": [],
   "source": [
    "## prepare a placeholder for input\n",
    "# this is our input placeholder\n",
    "inp = Input(shape=(784,)) # here shape (784, ) means we specify only the number of rows but we can input as many columns as we would like\n",
    "# 784, size of the dataset\n",
    "# biyts of information"
   ]
  },
  {
   "cell_type": "code",
   "execution_count": 5,
   "metadata": {},
   "outputs": [],
   "source": [
    "## Adding layers --> simple as .add()\n",
    "## Dense means linear layer + activation\n",
    "model.add(Dense(units=64, activation='relu'))\n",
    "# add dense of 64 layers, using relu\n",
    "model.add(Dense(units=10, activation='softmax'))\n",
    "# add 10 layers, using softmax\n",
    "# one dense, then one activation"
   ]
  },
  {
   "cell_type": "code",
   "execution_count": 9,
   "metadata": {},
   "outputs": [],
   "source": [
    "# Option I - gradient descent\n",
    "model.compile(loss='mean_squared_error',\n",
    "              optimizer='sgd',\n",
    "              metrics=['mae', 'acc'])\n",
    "# absolute error, \n",
    "\n",
    "# # Option II - adadelta\n",
    "# model.compile(optimizer='adadelta', loss='binary_crossentropy')\n",
    "# adam is better industry standard\n",
    "\n",
    "\n",
    "model.compile(optimizer='adam', loss='binary_crossentropy')"
   ]
  },
  {
   "cell_type": "markdown",
   "metadata": {},
   "source": [
    "<a href=\"https://keras.io/optimizers/\">more optimizers</a>"
   ]
  },
  {
   "cell_type": "code",
   "execution_count": 10,
   "metadata": {},
   "outputs": [
    {
     "name": "stdout",
     "output_type": "stream",
     "text": [
      "Train on 1000 samples, validate on 100 samples\n",
      "Epoch 1/20\n",
      "1000/1000 [==============================] - 0s 130us/step - loss: 0.3273 - val_loss: 0.3304\n",
      "Epoch 2/20\n",
      "1000/1000 [==============================] - 0s 12us/step - loss: 0.3261 - val_loss: 0.3299\n",
      "Epoch 3/20\n",
      "1000/1000 [==============================] - 0s 14us/step - loss: 0.3255 - val_loss: 0.3297\n",
      "Epoch 4/20\n",
      "1000/1000 [==============================] - 0s 13us/step - loss: 0.3251 - val_loss: 0.3296\n",
      "Epoch 5/20\n",
      "1000/1000 [==============================] - 0s 12us/step - loss: 0.3247 - val_loss: 0.3297\n",
      "Epoch 6/20\n",
      "1000/1000 [==============================] - 0s 14us/step - loss: 0.3243 - val_loss: 0.3298\n",
      "Epoch 7/20\n",
      "1000/1000 [==============================] - 0s 15us/step - loss: 0.3240 - val_loss: 0.3301\n",
      "Epoch 8/20\n",
      "1000/1000 [==============================] - 0s 14us/step - loss: 0.3237 - val_loss: 0.3302\n",
      "Epoch 9/20\n",
      "1000/1000 [==============================] - 0s 15us/step - loss: 0.3234 - val_loss: 0.3300\n",
      "Epoch 10/20\n",
      "1000/1000 [==============================] - 0s 16us/step - loss: 0.3231 - val_loss: 0.3299\n",
      "Epoch 11/20\n",
      "1000/1000 [==============================] - 0s 18us/step - loss: 0.3228 - val_loss: 0.3305\n",
      "Epoch 12/20\n",
      "1000/1000 [==============================] - 0s 16us/step - loss: 0.3224 - val_loss: 0.3301\n",
      "Epoch 13/20\n",
      "1000/1000 [==============================] - 0s 17us/step - loss: 0.3221 - val_loss: 0.3300\n",
      "Epoch 14/20\n",
      "1000/1000 [==============================] - 0s 20us/step - loss: 0.3218 - val_loss: 0.3301\n",
      "Epoch 15/20\n",
      "1000/1000 [==============================] - 0s 16us/step - loss: 0.3215 - val_loss: 0.3303\n",
      "Epoch 16/20\n",
      "1000/1000 [==============================] - 0s 18us/step - loss: 0.3213 - val_loss: 0.3303\n",
      "Epoch 17/20\n",
      "1000/1000 [==============================] - 0s 17us/step - loss: 0.3209 - val_loss: 0.3302\n",
      "Epoch 18/20\n",
      "1000/1000 [==============================] - 0s 18us/step - loss: 0.3207 - val_loss: 0.3304\n",
      "Epoch 19/20\n",
      "1000/1000 [==============================] - 0s 26us/step - loss: 0.3204 - val_loss: 0.3308\n",
      "Epoch 20/20\n",
      "1000/1000 [==============================] - 0s 16us/step - loss: 0.3201 - val_loss: 0.3305\n"
     ]
    }
   ],
   "source": [
    "# Training the model!\n",
    "import numpy as np\n",
    "X_train = np.random.random((1000, 20))\n",
    "y_train = keras.utils.to_categorical(np.random.randint(10, size=(1000, 1)), num_classes=10)\n",
    "X_test = np.random.random((100, 20))\n",
    "y_test = keras.utils.to_categorical(np.random.randint(10, size=(100, 1)), num_classes=10)\n",
    "\n",
    "\n",
    "\n",
    "\n",
    "history = model.fit(X_train, y_train,\n",
    "          batch_size=128, epochs=20,\n",
    "          validation_data=(X_test, y_test)) "
   ]
  },
  {
   "cell_type": "code",
   "execution_count": 11,
   "metadata": {},
   "outputs": [
    {
     "data": {
      "text/plain": [
       "[0.330424964427948,\n",
       " 0.32994791865348816,\n",
       " 0.3296769857406616,\n",
       " 0.3296251595020294,\n",
       " 0.3297174572944641,\n",
       " 0.32975518703460693,\n",
       " 0.33011820912361145,\n",
       " 0.33023810386657715,\n",
       " 0.33002978563308716,\n",
       " 0.32994574308395386,\n",
       " 0.3305342197418213,\n",
       " 0.33014601469039917,\n",
       " 0.33003073930740356,\n",
       " 0.3301147222518921,\n",
       " 0.33032721281051636,\n",
       " 0.3302660286426544,\n",
       " 0.3301640450954437,\n",
       " 0.33037638664245605,\n",
       " 0.33077535033226013,\n",
       " 0.3305279016494751]"
      ]
     },
     "execution_count": 11,
     "metadata": {},
     "output_type": "execute_result"
    }
   ],
   "source": [
    "# Results of the model over epochs\n",
    "history.history['val_loss']"
   ]
  },
  {
   "cell_type": "code",
   "execution_count": 12,
   "metadata": {},
   "outputs": [
    {
     "data": {
      "text/plain": [
       "[0.32728586316108704,\n",
       " 0.3260873730182648,\n",
       " 0.3255122537612915,\n",
       " 0.3251093974113464,\n",
       " 0.32473016214370726,\n",
       " 0.32434563875198363,\n",
       " 0.3239849560260773,\n",
       " 0.32373926424980165,\n",
       " 0.3233603045940399,\n",
       " 0.32306290936470033,\n",
       " 0.32279154849052427,\n",
       " 0.3224238402843475,\n",
       " 0.32210994815826416,\n",
       " 0.32179124784469604,\n",
       " 0.32153694462776183,\n",
       " 0.32128475594520567,\n",
       " 0.3209401197433472,\n",
       " 0.32067645621299745,\n",
       " 0.32043359756469725,\n",
       " 0.32013577127456666]"
      ]
     },
     "execution_count": 12,
     "metadata": {},
     "output_type": "execute_result"
    }
   ],
   "source": [
    "history.history['loss']"
   ]
  },
  {
   "cell_type": "code",
   "execution_count": 13,
   "metadata": {},
   "outputs": [
    {
     "name": "stdout",
     "output_type": "stream",
     "text": [
      "100/100 [==============================] - 0s 38us/step\n"
     ]
    }
   ],
   "source": [
    "## Evaluate\n",
    "loss_and_metrics = model.evaluate(X_test, y_test)"
   ]
  },
  {
   "cell_type": "code",
   "execution_count": 15,
   "metadata": {},
   "outputs": [
    {
     "data": {
      "text/plain": [
       "0.3305279016494751"
      ]
     },
     "execution_count": 15,
     "metadata": {},
     "output_type": "execute_result"
    }
   ],
   "source": [
    "loss_and_metrics"
   ]
  },
  {
   "cell_type": "code",
   "execution_count": 14,
   "metadata": {},
   "outputs": [
    {
     "data": {
      "text/plain": [
       "<keras.engine.sequential.Sequential at 0x146cd3278>"
      ]
     },
     "execution_count": 14,
     "metadata": {},
     "output_type": "execute_result"
    }
   ],
   "source": [
    "### Useful\n",
    "model.save('./model.h5') # Save your weights and computational graph\n",
    "from keras.models import load_model\n",
    "load_model('./model.h5') # loading the saved model from above"
   ]
  },
  {
   "cell_type": "code",
   "execution_count": 16,
   "metadata": {},
   "outputs": [
    {
     "name": "stdout",
     "output_type": "stream",
     "text": [
      "\u001b[34mimg\u001b[m\u001b[m/                  \u001b[31mintro-to-keras.ipynb\u001b[m\u001b[m* model.h5\r\n"
     ]
    }
   ],
   "source": [
    "ls"
   ]
  },
  {
   "cell_type": "markdown",
   "metadata": {},
   "source": [
    "### Your exercise:  Image reconstruction using auto-encoder"
   ]
  },
  {
   "cell_type": "markdown",
   "metadata": {},
   "source": [
    "##### Import dataset - Mnist (handwritten digits)"
   ]
  },
  {
   "cell_type": "code",
   "execution_count": 51,
   "metadata": {},
   "outputs": [],
   "source": [
    "import os"
   ]
  },
  {
   "cell_type": "code",
   "execution_count": 52,
   "metadata": {},
   "outputs": [],
   "source": [
    "import matplotlib.pyplot as plt"
   ]
  },
  {
   "cell_type": "code",
   "execution_count": 53,
   "metadata": {},
   "outputs": [],
   "source": [
    "# keras imports for the dataset and building our neural network\n",
    "from keras.datasets import mnist\n",
    "from keras.models import Sequential, load_model, Input\n",
    "from keras.layers.core import Dense, Dropout, Activation\n",
    "from keras.utils import np_utils"
   ]
  },
  {
   "cell_type": "code",
   "execution_count": null,
   "metadata": {},
   "outputs": [],
   "source": [
    "### a. Load the Mnist dataset and split to train/test (use mnist.load_data())\n",
    "### b. Plot few images with their label\n",
    "### c. reshape images to 784 dim vector and normalize (divide by 255)\n",
    "### d. Create a new model with 1 Dense layers sized 32 (encoder) with relu layer. \n",
    "### Then add a dense layer sized 784 with sigmoid activation.\n",
    "### Run it for 50 epochs with batches of 256. Use binary cross-entropy. \n",
    "### e. Plot the model loss\n",
    "### f. Use predict to encode and decode x_test"
   ]
  },
  {
   "cell_type": "code",
   "execution_count": 54,
   "metadata": {},
   "outputs": [],
   "source": [
    "# keras imports for the dataset and building our neural network\n",
    "from keras.datasets import mnist\n",
    "from keras.models import Sequential, load_model\n",
    "from keras.layers.core import Dense, Dropout, Activation\n",
    "from keras.utils import np_utils\n",
    "\n",
    "os.environ['TF_CPP_MIN_LOG_LEVEL']='3'\n",
    "## This is to avoid getting hundreds of log messages"
   ]
  },
  {
   "cell_type": "code",
   "execution_count": 55,
   "metadata": {},
   "outputs": [],
   "source": [
    "from keras.layers import Input, Dense\n",
    "from keras.models import Model"
   ]
  },
  {
   "cell_type": "code",
   "execution_count": 36,
   "metadata": {},
   "outputs": [],
   "source": [
    "(x_train, y_train), (x_test, y_test ) = mnist.load_data()"
   ]
  },
  {
   "cell_type": "code",
   "execution_count": 37,
   "metadata": {},
   "outputs": [
    {
     "data": {
      "image/png": "[encoded data removed]",
      "text/plain": [
       "<Figure size 432x288 with 1 Axes>"
      ]
     },
     "metadata": {
      "needs_background": "light"
     },
     "output_type": "display_data"
    },
    {
     "data": {
      "image/png": "[encoded data removed]",
      "text/plain": [
       "<Figure size 432x288 with 1 Axes>"
      ]
     },
     "metadata": {
      "needs_background": "light"
     },
     "output_type": "display_data"
    },
    {
     "data": {
      "image/png": "[encoded data removed]",
      "text/plain": [
       "<Figure size 432x288 with 1 Axes>"
      ]
     },
     "metadata": {
      "needs_background": "light"
     },
     "output_type": "display_data"
    },
    {
     "data": {
      "image/png": "[encoded data removed]",
      "text/plain": [
       "<Figure size 432x288 with 1 Axes>"
      ]
     },
     "metadata": {
      "needs_background": "light"
     },
     "output_type": "display_data"
    },
    {
     "data": {
      "image/png": "[encoded data removed]",
      "text/plain": [
       "<Figure size 432x288 with 1 Axes>"
      ]
     },
     "metadata": {
      "needs_background": "light"
     },
     "output_type": "display_data"
    },
    {
     "data": {
      "image/png": "[encoded data removed]",
      "text/plain": [
       "<Figure size 432x288 with 1 Axes>"
      ]
     },
     "metadata": {
      "needs_background": "light"
     },
     "output_type": "display_data"
    },
    {
     "data": {
      "image/png": "[encoded data removed]",
      "text/plain": [
       "<Figure size 432x288 with 1 Axes>"
      ]
     },
     "metadata": {
      "needs_background": "light"
     },
     "output_type": "display_data"
    },
    {
     "data": {
      "image/png": "[encoded data removed]",
      "text/plain": [
       "<Figure size 432x288 with 1 Axes>"
      ]
     },
     "metadata": {
      "needs_background": "light"
     },
     "output_type": "display_data"
    },
    {
     "data": {
      "image/png": "[encoded data removed]",
      "text/plain": [
       "<Figure size 432x288 with 1 Axes>"
      ]
     },
     "metadata": {
      "needs_background": "light"
     },
     "output_type": "display_data"
    },
    {
     "data": {
      "image/png": "[encoded data removed]",
      "text/plain": [
       "<Figure size 432x288 with 1 Axes>"
      ]
     },
     "metadata": {
      "needs_background": "light"
     },
     "output_type": "display_data"
    }
   ],
   "source": [
    "for i in range(10):\n",
    "    img = x_train[i].reshape((28,28))\n",
    "    plt.imshow(img, cmap=\"Greys\")\n",
    "    plt.show()"
   ]
  },
  {
   "cell_type": "code",
   "execution_count": 47,
   "metadata": {},
   "outputs": [],
   "source": [
    "model = Sequential()\n",
    "inp = Input(shape=(784,))"
   ]
  },
  {
   "cell_type": "code",
   "execution_count": 48,
   "metadata": {},
   "outputs": [],
   "source": [
    "model.add(Dense(units=32, activation='relu'))\n",
    "model.add(Dense(units=784, activation='sigmoid'))\n",
    "model.add(Dense(units=10, activation=\"softmax\"))"
   ]
  },
  {
   "cell_type": "code",
   "execution_count": 49,
   "metadata": {},
   "outputs": [],
   "source": [
    "model.compile(optimizer='adam', loss='binary_crossentropy')"
   ]
  },
  {
   "cell_type": "code",
   "execution_count": 50,
   "metadata": {},
   "outputs": [
    {
     "ename": "ValueError",
     "evalue": "Error when checking target: expected dense_18 to have 3 dimensions, but got array with shape (60000, 1)",
     "output_type": "error",
     "traceback": [
      "\u001b[0;31m---------------------------------------------------------------------------\u001b[0m",
      "\u001b[0;31mValueError\u001b[0m                                Traceback (most recent call last)",
      "\u001b[0;32m<ipython-input-50-6a7d125bef62>\u001b[0m in \u001b[0;36m<module>\u001b[0;34m\u001b[0m\n\u001b[1;32m      1\u001b[0m history = model.fit(x_train, y_train,\n\u001b[1;32m      2\u001b[0m           \u001b[0mbatch_size\u001b[0m\u001b[0;34m=\u001b[0m\u001b[0;36m256\u001b[0m\u001b[0;34m,\u001b[0m \u001b[0mepochs\u001b[0m\u001b[0;34m=\u001b[0m\u001b[0;36m50\u001b[0m\u001b[0;34m,\u001b[0m\u001b[0;34m\u001b[0m\u001b[0;34m\u001b[0m\u001b[0m\n\u001b[0;32m----> 3\u001b[0;31m           validation_data=(x_test, y_test)) \n\u001b[0m",
      "\u001b[0;32m~/anaconda3/lib/python3.7/site-packages/keras/engine/training.py\u001b[0m in \u001b[0;36mfit\u001b[0;34m(self, x, y, batch_size, epochs, verbose, callbacks, validation_split, validation_data, shuffle, class_weight, sample_weight, initial_epoch, steps_per_epoch, validation_steps, validation_freq, max_queue_size, workers, use_multiprocessing, **kwargs)\u001b[0m\n\u001b[1;32m   1152\u001b[0m             \u001b[0msample_weight\u001b[0m\u001b[0;34m=\u001b[0m\u001b[0msample_weight\u001b[0m\u001b[0;34m,\u001b[0m\u001b[0;34m\u001b[0m\u001b[0;34m\u001b[0m\u001b[0m\n\u001b[1;32m   1153\u001b[0m             \u001b[0mclass_weight\u001b[0m\u001b[0;34m=\u001b[0m\u001b[0mclass_weight\u001b[0m\u001b[0;34m,\u001b[0m\u001b[0;34m\u001b[0m\u001b[0;34m\u001b[0m\u001b[0m\n\u001b[0;32m-> 1154\u001b[0;31m             batch_size=batch_size)\n\u001b[0m\u001b[1;32m   1155\u001b[0m \u001b[0;34m\u001b[0m\u001b[0m\n\u001b[1;32m   1156\u001b[0m         \u001b[0;31m# Prepare validation data.\u001b[0m\u001b[0;34m\u001b[0m\u001b[0;34m\u001b[0m\u001b[0;34m\u001b[0m\u001b[0m\n",
      "\u001b[0;32m~/anaconda3/lib/python3.7/site-packages/keras/engine/training.py\u001b[0m in \u001b[0;36m_standardize_user_data\u001b[0;34m(self, x, y, sample_weight, class_weight, check_array_lengths, batch_size)\u001b[0m\n\u001b[1;32m    619\u001b[0m                 \u001b[0mfeed_output_shapes\u001b[0m\u001b[0;34m,\u001b[0m\u001b[0;34m\u001b[0m\u001b[0;34m\u001b[0m\u001b[0m\n\u001b[1;32m    620\u001b[0m                 \u001b[0mcheck_batch_axis\u001b[0m\u001b[0;34m=\u001b[0m\u001b[0;32mFalse\u001b[0m\u001b[0;34m,\u001b[0m  \u001b[0;31m# Don't enforce the batch size.\u001b[0m\u001b[0;34m\u001b[0m\u001b[0;34m\u001b[0m\u001b[0m\n\u001b[0;32m--> 621\u001b[0;31m                 exception_prefix='target')\n\u001b[0m\u001b[1;32m    622\u001b[0m \u001b[0;34m\u001b[0m\u001b[0m\n\u001b[1;32m    623\u001b[0m             \u001b[0;31m# Generate sample-wise weight values given the `sample_weight` and\u001b[0m\u001b[0;34m\u001b[0m\u001b[0;34m\u001b[0m\u001b[0;34m\u001b[0m\u001b[0m\n",
      "\u001b[0;32m~/anaconda3/lib/python3.7/site-packages/keras/engine/training_utils.py\u001b[0m in \u001b[0;36mstandardize_input_data\u001b[0;34m(data, names, shapes, check_batch_axis, exception_prefix)\u001b[0m\n\u001b[1;32m    133\u001b[0m                         \u001b[0;34m': expected '\u001b[0m \u001b[0;34m+\u001b[0m \u001b[0mnames\u001b[0m\u001b[0;34m[\u001b[0m\u001b[0mi\u001b[0m\u001b[0;34m]\u001b[0m \u001b[0;34m+\u001b[0m \u001b[0;34m' to have '\u001b[0m \u001b[0;34m+\u001b[0m\u001b[0;34m\u001b[0m\u001b[0;34m\u001b[0m\u001b[0m\n\u001b[1;32m    134\u001b[0m                         \u001b[0mstr\u001b[0m\u001b[0;34m(\u001b[0m\u001b[0mlen\u001b[0m\u001b[0;34m(\u001b[0m\u001b[0mshape\u001b[0m\u001b[0;34m)\u001b[0m\u001b[0;34m)\u001b[0m \u001b[0;34m+\u001b[0m \u001b[0;34m' dimensions, but got array '\u001b[0m\u001b[0;34m\u001b[0m\u001b[0;34m\u001b[0m\u001b[0m\n\u001b[0;32m--> 135\u001b[0;31m                         'with shape ' + str(data_shape))\n\u001b[0m\u001b[1;32m    136\u001b[0m                 \u001b[0;32mif\u001b[0m \u001b[0;32mnot\u001b[0m \u001b[0mcheck_batch_axis\u001b[0m\u001b[0;34m:\u001b[0m\u001b[0;34m\u001b[0m\u001b[0;34m\u001b[0m\u001b[0m\n\u001b[1;32m    137\u001b[0m                     \u001b[0mdata_shape\u001b[0m \u001b[0;34m=\u001b[0m \u001b[0mdata_shape\u001b[0m\u001b[0;34m[\u001b[0m\u001b[0;36m1\u001b[0m\u001b[0;34m:\u001b[0m\u001b[0;34m]\u001b[0m\u001b[0;34m\u001b[0m\u001b[0;34m\u001b[0m\u001b[0m\n",
      "\u001b[0;31mValueError\u001b[0m: Error when checking target: expected dense_18 to have 3 dimensions, but got array with shape (60000, 1)"
     ]
    }
   ],
   "source": [
    "history = model.fit(x_train, y_train,\n",
    "          batch_size=256, epochs=50,\n",
    "          validation_data=(x_test, y_test)) "
   ]
  },
  {
   "cell_type": "code",
   "execution_count": 57,
   "metadata": {},
   "outputs": [],
   "source": [
    "import tensorflow as tf"
   ]
  },
  {
   "cell_type": "code",
   "execution_count": 58,
   "metadata": {},
   "outputs": [],
   "source": [
    "model = tf.keras.models.Sequential([\n",
    "  tf.keras.layers.Flatten(input_shape=(28, 28)),\n",
    "  tf.keras.layers.Dense(512, activation=tf.nn.relu),\n",
    "  tf.keras.layers.Dense(10, activation=tf.nn.softmax)\n",
    "])\n",
    "model.compile(optimizer='adam',\n",
    "              loss='sparse_categorical_crossentropy',\n",
    "              metrics=['accuracy'])"
   ]
  },
  {
   "cell_type": "code",
   "execution_count": 59,
   "metadata": {},
   "outputs": [
    {
     "name": "stdout",
     "output_type": "stream",
     "text": [
      "Train on 60000 samples, validate on 10000 samples\n",
      "Epoch 1/50\n",
      "60000/60000 [==============================] - 2s 31us/sample - loss: 5.9745 - accuracy: 0.8962 - val_loss: 1.4672 - val_accuracy: 0.9357\n",
      "Epoch 2/50\n",
      "60000/60000 [==============================] - 1s 25us/sample - loss: 0.9671 - accuracy: 0.9516 - val_loss: 0.9114 - val_accuracy: 0.9530\n",
      "Epoch 3/50\n",
      "60000/60000 [==============================] - 1s 24us/sample - loss: 0.4751 - accuracy: 0.9679 - val_loss: 0.8034 - val_accuracy: 0.9525\n",
      "Epoch 4/50\n",
      "60000/60000 [==============================] - 1s 24us/sample - loss: 0.2829 - accuracy: 0.9759 - val_loss: 0.6546 - val_accuracy: 0.9620\n",
      "Epoch 5/50\n",
      "60000/60000 [==============================] - 1s 25us/sample - loss: 0.2080 - accuracy: 0.9808 - val_loss: 0.6038 - val_accuracy: 0.9639\n",
      "Epoch 6/50\n",
      "60000/60000 [==============================] - 1s 24us/sample - loss: 0.1605 - accuracy: 0.9840 - val_loss: 0.6704 - val_accuracy: 0.9638\n",
      "Epoch 7/50\n",
      "60000/60000 [==============================] - 1s 24us/sample - loss: 0.1231 - accuracy: 0.9865 - val_loss: 0.5848 - val_accuracy: 0.9666\n",
      "Epoch 8/50\n",
      "60000/60000 [==============================] - 1s 25us/sample - loss: 0.1368 - accuracy: 0.9864 - val_loss: 0.6040 - val_accuracy: 0.9664\n",
      "Epoch 9/50\n",
      "60000/60000 [==============================] - 1s 25us/sample - loss: 0.1139 - accuracy: 0.9877 - val_loss: 0.6598 - val_accuracy: 0.9628\n",
      "Epoch 10/50\n",
      "60000/60000 [==============================] - 1s 24us/sample - loss: 0.1326 - accuracy: 0.9863 - val_loss: 0.6236 - val_accuracy: 0.9676\n",
      "Epoch 11/50\n",
      "60000/60000 [==============================] - 1s 25us/sample - loss: 0.1369 - accuracy: 0.9863 - val_loss: 0.5994 - val_accuracy: 0.9673\n",
      "Epoch 12/50\n",
      "60000/60000 [==============================] - 2s 25us/sample - loss: 0.1574 - accuracy: 0.9865 - val_loss: 0.6669 - val_accuracy: 0.9649\n",
      "Epoch 13/50\n",
      "60000/60000 [==============================] - 2s 25us/sample - loss: 0.1342 - accuracy: 0.9870 - val_loss: 0.6145 - val_accuracy: 0.9657\n",
      "Epoch 14/50\n",
      "60000/60000 [==============================] - 1s 25us/sample - loss: 0.1216 - accuracy: 0.9874 - val_loss: 0.5763 - val_accuracy: 0.9694\n",
      "Epoch 15/50\n",
      "60000/60000 [==============================] - 2s 25us/sample - loss: 0.1211 - accuracy: 0.9882 - val_loss: 0.6714 - val_accuracy: 0.9657\n",
      "Epoch 16/50\n",
      "60000/60000 [==============================] - 2s 25us/sample - loss: 0.1461 - accuracy: 0.9865 - val_loss: 0.5789 - val_accuracy: 0.9710\n",
      "Epoch 17/50\n",
      "60000/60000 [==============================] - 1s 25us/sample - loss: 0.1182 - accuracy: 0.9895 - val_loss: 0.5614 - val_accuracy: 0.9734\n",
      "Epoch 18/50\n",
      "60000/60000 [==============================] - 1s 25us/sample - loss: 0.0963 - accuracy: 0.9901 - val_loss: 0.7429 - val_accuracy: 0.9674\n",
      "Epoch 19/50\n",
      "60000/60000 [==============================] - 1s 25us/sample - loss: 0.1303 - accuracy: 0.9889 - val_loss: 0.6170 - val_accuracy: 0.9709\n",
      "Epoch 20/50\n",
      "60000/60000 [==============================] - 1s 25us/sample - loss: 0.1304 - accuracy: 0.9890 - val_loss: 0.7042 - val_accuracy: 0.9688\n",
      "Epoch 21/50\n",
      "60000/60000 [==============================] - 2s 25us/sample - loss: 0.1237 - accuracy: 0.9895 - val_loss: 0.6266 - val_accuracy: 0.9724\n",
      "Epoch 22/50\n",
      "60000/60000 [==============================] - 1s 25us/sample - loss: 0.1215 - accuracy: 0.9900 - val_loss: 0.7159 - val_accuracy: 0.9677\n",
      "Epoch 23/50\n",
      "60000/60000 [==============================] - 1s 24us/sample - loss: 0.1118 - accuracy: 0.9904 - val_loss: 0.7125 - val_accuracy: 0.9726\n",
      "Epoch 24/50\n",
      "60000/60000 [==============================] - 2s 25us/sample - loss: 0.1181 - accuracy: 0.9903 - val_loss: 0.6778 - val_accuracy: 0.9721\n",
      "Epoch 25/50\n",
      "60000/60000 [==============================] - 1s 25us/sample - loss: 0.1148 - accuracy: 0.9906 - val_loss: 0.6693 - val_accuracy: 0.9726\n",
      "Epoch 26/50\n",
      "60000/60000 [==============================] - 1s 24us/sample - loss: 0.0905 - accuracy: 0.9918 - val_loss: 0.7431 - val_accuracy: 0.9698\n",
      "Epoch 27/50\n",
      "60000/60000 [==============================] - 2s 26us/sample - loss: 0.0938 - accuracy: 0.9922 - val_loss: 0.6182 - val_accuracy: 0.9753\n",
      "Epoch 28/50\n",
      "60000/60000 [==============================] - 1s 24us/sample - loss: 0.1068 - accuracy: 0.9917 - val_loss: 0.7127 - val_accuracy: 0.9731\n",
      "Epoch 29/50\n",
      "60000/60000 [==============================] - 1s 25us/sample - loss: 0.1182 - accuracy: 0.9911 - val_loss: 0.8182 - val_accuracy: 0.9693\n",
      "Epoch 30/50\n",
      "60000/60000 [==============================] - 1s 25us/sample - loss: 0.1255 - accuracy: 0.9903 - val_loss: 0.8553 - val_accuracy: 0.9735\n",
      "Epoch 31/50\n",
      "60000/60000 [==============================] - 2s 25us/sample - loss: 0.1073 - accuracy: 0.9920 - val_loss: 0.7105 - val_accuracy: 0.9721\n",
      "Epoch 32/50\n",
      "60000/60000 [==============================] - 1s 25us/sample - loss: 0.0909 - accuracy: 0.9927 - val_loss: 0.6809 - val_accuracy: 0.9751\n",
      "Epoch 33/50\n",
      "60000/60000 [==============================] - 1s 24us/sample - loss: 0.1023 - accuracy: 0.9922 - val_loss: 0.8727 - val_accuracy: 0.9735\n",
      "Epoch 34/50\n",
      "60000/60000 [==============================] - 1s 24us/sample - loss: 0.1370 - accuracy: 0.9911 - val_loss: 0.7912 - val_accuracy: 0.9761\n",
      "Epoch 35/50\n",
      "60000/60000 [==============================] - 1s 24us/sample - loss: 0.0883 - accuracy: 0.9936 - val_loss: 0.7143 - val_accuracy: 0.9757\n",
      "Epoch 36/50\n",
      "60000/60000 [==============================] - 1s 23us/sample - loss: 0.0968 - accuracy: 0.9937 - val_loss: 1.0341 - val_accuracy: 0.9744\n",
      "Epoch 37/50\n",
      "60000/60000 [==============================] - 1s 23us/sample - loss: 0.0974 - accuracy: 0.9937 - val_loss: 0.8808 - val_accuracy: 0.9752\n",
      "Epoch 38/50\n",
      "60000/60000 [==============================] - 1s 24us/sample - loss: 0.0835 - accuracy: 0.9942 - val_loss: 0.9053 - val_accuracy: 0.9746\n",
      "Epoch 39/50\n",
      "60000/60000 [==============================] - 1s 24us/sample - loss: 0.0808 - accuracy: 0.9943 - val_loss: 1.1434 - val_accuracy: 0.9685\n",
      "Epoch 40/50\n",
      "60000/60000 [==============================] - 1s 24us/sample - loss: 0.1299 - accuracy: 0.9926 - val_loss: 1.0391 - val_accuracy: 0.9748\n",
      "Epoch 41/50\n",
      "60000/60000 [==============================] - 1s 24us/sample - loss: 0.1000 - accuracy: 0.9940 - val_loss: 1.1330 - val_accuracy: 0.9731\n",
      "Epoch 42/50\n",
      "60000/60000 [==============================] - 1s 24us/sample - loss: 0.1012 - accuracy: 0.9938 - val_loss: 0.9755 - val_accuracy: 0.9752\n",
      "Epoch 43/50\n",
      "60000/60000 [==============================] - 1s 25us/sample - loss: 0.0998 - accuracy: 0.9942 - val_loss: 1.0276 - val_accuracy: 0.9742\n",
      "Epoch 44/50\n",
      "60000/60000 [==============================] - 1s 24us/sample - loss: 0.0939 - accuracy: 0.9946 - val_loss: 0.9800 - val_accuracy: 0.9766\n",
      "Epoch 45/50\n",
      "60000/60000 [==============================] - 1s 24us/sample - loss: 0.0759 - accuracy: 0.9951 - val_loss: 1.0519 - val_accuracy: 0.9730\n",
      "Epoch 46/50\n",
      "60000/60000 [==============================] - 1s 24us/sample - loss: 0.0815 - accuracy: 0.9952 - val_loss: 0.9894 - val_accuracy: 0.9769\n",
      "Epoch 47/50\n",
      "60000/60000 [==============================] - 1s 24us/sample - loss: 0.0927 - accuracy: 0.9947 - val_loss: 0.8873 - val_accuracy: 0.9773\n",
      "Epoch 48/50\n",
      "60000/60000 [==============================] - 1s 25us/sample - loss: 0.0725 - accuracy: 0.9955 - val_loss: 1.1102 - val_accuracy: 0.9766\n",
      "Epoch 49/50\n",
      "60000/60000 [==============================] - 2s 26us/sample - loss: 0.0803 - accuracy: 0.9957 - val_loss: 0.9572 - val_accuracy: 0.9789\n",
      "Epoch 50/50\n",
      "60000/60000 [==============================] - 1s 24us/sample - loss: 0.0681 - accuracy: 0.9960 - val_loss: 1.0606 - val_accuracy: 0.9763\n"
     ]
    }
   ],
   "source": [
    "random_try = model.fit(x_train, y_train, batch_size=256, epochs=50, validation_data=(x_test, y_test)) "
   ]
  },
  {
   "cell_type": "code",
   "execution_count": null,
   "metadata": {},
   "outputs": [],
   "source": []
  }
 ],
 "metadata": {
  "kernelspec": {
   "display_name": "Python 3",
   "language": "python",
   "name": "python3"
  },
  "language_info": {
   "codemirror_mode": {
    "name": "ipython",
    "version": 3
   },
   "file_extension": ".py",
   "mimetype": "text/x-python",
   "name": "python",
   "nbconvert_exporter": "python",
   "pygments_lexer": "ipython3",
   "version": "3.7.3"
  }
 },
 "nbformat": 4,
 "nbformat_minor": 2
}
